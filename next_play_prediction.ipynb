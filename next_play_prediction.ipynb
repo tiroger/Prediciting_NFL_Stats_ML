{
 "cells": [
  {
   "cell_type": "code",
   "execution_count": 1,
   "metadata": {},
   "outputs": [],
   "source": [
    "import pandas as pd\n",
    "import numpy as np\n",
    "\n",
    "import pandas_profiling\n",
    "\n",
    "import matplotlib.pyplot as plt\n",
    "import seaborn as sns"
   ]
  },
  {
   "cell_type": "code",
   "execution_count": 2,
   "metadata": {},
   "outputs": [
    {
     "data": {
      "text/html": [
       "<div>\n",
       "<style scoped>\n",
       "    .dataframe tbody tr th:only-of-type {\n",
       "        vertical-align: middle;\n",
       "    }\n",
       "\n",
       "    .dataframe tbody tr th {\n",
       "        vertical-align: top;\n",
       "    }\n",
       "\n",
       "    .dataframe thead th {\n",
       "        text-align: right;\n",
       "    }\n",
       "</style>\n",
       "<table border=\"1\" class=\"dataframe\">\n",
       "  <thead>\n",
       "    <tr style=\"text-align: right;\">\n",
       "      <th></th>\n",
       "      <th>game_id</th>\n",
       "      <th>home_team</th>\n",
       "      <th>away_team</th>\n",
       "      <th>side_of_field</th>\n",
       "      <th>yardline_100</th>\n",
       "      <th>qtr</th>\n",
       "      <th>down</th>\n",
       "      <th>goal_to_go</th>\n",
       "      <th>ydstogo</th>\n",
       "      <th>play_type</th>\n",
       "      <th>posteam_timeouts_remaining</th>\n",
       "      <th>defteam_timeouts_remaining</th>\n",
       "      <th>posteam_score</th>\n",
       "      <th>defteam_score</th>\n",
       "      <th>score_differential</th>\n",
       "    </tr>\n",
       "  </thead>\n",
       "  <tbody>\n",
       "    <tr>\n",
       "      <td>0</td>\n",
       "      <td>2009091000</td>\n",
       "      <td>PIT</td>\n",
       "      <td>TEN</td>\n",
       "      <td>TEN</td>\n",
       "      <td>30.0</td>\n",
       "      <td>1</td>\n",
       "      <td>NaN</td>\n",
       "      <td>0.0</td>\n",
       "      <td>0</td>\n",
       "      <td>kickoff</td>\n",
       "      <td>3.0</td>\n",
       "      <td>3.0</td>\n",
       "      <td>NaN</td>\n",
       "      <td>NaN</td>\n",
       "      <td>NaN</td>\n",
       "    </tr>\n",
       "    <tr>\n",
       "      <td>1</td>\n",
       "      <td>2009091000</td>\n",
       "      <td>PIT</td>\n",
       "      <td>TEN</td>\n",
       "      <td>PIT</td>\n",
       "      <td>58.0</td>\n",
       "      <td>1</td>\n",
       "      <td>1.0</td>\n",
       "      <td>0.0</td>\n",
       "      <td>10</td>\n",
       "      <td>pass</td>\n",
       "      <td>3.0</td>\n",
       "      <td>3.0</td>\n",
       "      <td>0.0</td>\n",
       "      <td>0.0</td>\n",
       "      <td>0.0</td>\n",
       "    </tr>\n",
       "    <tr>\n",
       "      <td>2</td>\n",
       "      <td>2009091000</td>\n",
       "      <td>PIT</td>\n",
       "      <td>TEN</td>\n",
       "      <td>PIT</td>\n",
       "      <td>53.0</td>\n",
       "      <td>1</td>\n",
       "      <td>2.0</td>\n",
       "      <td>0.0</td>\n",
       "      <td>5</td>\n",
       "      <td>run</td>\n",
       "      <td>3.0</td>\n",
       "      <td>3.0</td>\n",
       "      <td>0.0</td>\n",
       "      <td>0.0</td>\n",
       "      <td>0.0</td>\n",
       "    </tr>\n",
       "    <tr>\n",
       "      <td>3</td>\n",
       "      <td>2009091000</td>\n",
       "      <td>PIT</td>\n",
       "      <td>TEN</td>\n",
       "      <td>PIT</td>\n",
       "      <td>56.0</td>\n",
       "      <td>1</td>\n",
       "      <td>3.0</td>\n",
       "      <td>0.0</td>\n",
       "      <td>8</td>\n",
       "      <td>pass</td>\n",
       "      <td>3.0</td>\n",
       "      <td>3.0</td>\n",
       "      <td>0.0</td>\n",
       "      <td>0.0</td>\n",
       "      <td>0.0</td>\n",
       "    </tr>\n",
       "    <tr>\n",
       "      <td>4</td>\n",
       "      <td>2009091000</td>\n",
       "      <td>PIT</td>\n",
       "      <td>TEN</td>\n",
       "      <td>PIT</td>\n",
       "      <td>56.0</td>\n",
       "      <td>1</td>\n",
       "      <td>4.0</td>\n",
       "      <td>0.0</td>\n",
       "      <td>8</td>\n",
       "      <td>punt</td>\n",
       "      <td>3.0</td>\n",
       "      <td>3.0</td>\n",
       "      <td>0.0</td>\n",
       "      <td>0.0</td>\n",
       "      <td>0.0</td>\n",
       "    </tr>\n",
       "  </tbody>\n",
       "</table>\n",
       "</div>"
      ],
      "text/plain": [
       "      game_id home_team away_team side_of_field  yardline_100  qtr  down  \\\n",
       "0  2009091000       PIT       TEN           TEN          30.0    1   NaN   \n",
       "1  2009091000       PIT       TEN           PIT          58.0    1   1.0   \n",
       "2  2009091000       PIT       TEN           PIT          53.0    1   2.0   \n",
       "3  2009091000       PIT       TEN           PIT          56.0    1   3.0   \n",
       "4  2009091000       PIT       TEN           PIT          56.0    1   4.0   \n",
       "\n",
       "   goal_to_go  ydstogo play_type  posteam_timeouts_remaining  \\\n",
       "0         0.0        0   kickoff                         3.0   \n",
       "1         0.0       10      pass                         3.0   \n",
       "2         0.0        5       run                         3.0   \n",
       "3         0.0        8      pass                         3.0   \n",
       "4         0.0        8      punt                         3.0   \n",
       "\n",
       "   defteam_timeouts_remaining  posteam_score  defteam_score  \\\n",
       "0                         3.0            NaN            NaN   \n",
       "1                         3.0            0.0            0.0   \n",
       "2                         3.0            0.0            0.0   \n",
       "3                         3.0            0.0            0.0   \n",
       "4                         3.0            0.0            0.0   \n",
       "\n",
       "   score_differential  \n",
       "0                 NaN  \n",
       "1                 0.0  \n",
       "2                 0.0  \n",
       "3                 0.0  \n",
       "4                 0.0  "
      ]
     },
     "execution_count": 2,
     "metadata": {},
     "output_type": "execute_result"
    }
   ],
   "source": [
    "# Opening dataset\n",
    "play_by_play = pd.read_csv('resources/play_by_play_analysis.csv')\n",
    "play_by_play.head()"
   ]
  },
  {
   "cell_type": "code",
   "execution_count": 3,
   "metadata": {},
   "outputs": [
    {
     "data": {
      "text/plain": [
       "game_id                           0\n",
       "home_team                         0\n",
       "away_team                         0\n",
       "side_of_field                   600\n",
       "yardline_100                  13070\n",
       "qtr                               0\n",
       "down                          67962\n",
       "goal_to_go                    12707\n",
       "ydstogo                           0\n",
       "play_type                     12874\n",
       "posteam_timeouts_remaining    12879\n",
       "defteam_timeouts_remaining    12879\n",
       "posteam_score                 15419\n",
       "defteam_score                 15419\n",
       "score_differential            15419\n",
       "dtype: int64"
      ]
     },
     "execution_count": 3,
     "metadata": {},
     "output_type": "execute_result"
    }
   ],
   "source": [
    "play_by_play.isna().sum()"
   ]
  },
  {
   "cell_type": "code",
   "execution_count": 4,
   "metadata": {},
   "outputs": [],
   "source": [
    "# Removing row with NaN values\n",
    "all_play_types = play_by_play[play_by_play.play_type.notna()]"
   ]
  },
  {
   "cell_type": "code",
   "execution_count": 5,
   "metadata": {},
   "outputs": [
    {
     "data": {
      "text/plain": [
       "game_id                           0\n",
       "home_team                         0\n",
       "away_team                         0\n",
       "side_of_field                   368\n",
       "yardline_100                    368\n",
       "qtr                               0\n",
       "down                          55563\n",
       "goal_to_go                        5\n",
       "ydstogo                           0\n",
       "play_type                         0\n",
       "posteam_timeouts_remaining        5\n",
       "defteam_timeouts_remaining        5\n",
       "posteam_score                  2545\n",
       "defteam_score                  2545\n",
       "score_differential             2545\n",
       "dtype: int64"
      ]
     },
     "execution_count": 5,
     "metadata": {},
     "output_type": "execute_result"
    }
   ],
   "source": [
    "all_play_types.isna().sum()"
   ]
  },
  {
   "cell_type": "code",
   "execution_count": 6,
   "metadata": {},
   "outputs": [
    {
     "data": {
      "text/plain": [
       "game_id                       0\n",
       "home_team                     0\n",
       "away_team                     0\n",
       "side_of_field                 0\n",
       "yardline_100                  0\n",
       "qtr                           0\n",
       "down                          0\n",
       "goal_to_go                    0\n",
       "ydstogo                       0\n",
       "play_type                     0\n",
       "posteam_timeouts_remaining    0\n",
       "defteam_timeouts_remaining    0\n",
       "posteam_score                 0\n",
       "defteam_score                 0\n",
       "score_differential            0\n",
       "dtype: int64"
      ]
     },
     "execution_count": 6,
     "metadata": {},
     "output_type": "execute_result"
    }
   ],
   "source": [
    "# Filling in missing values with 0\n",
    "complete_pbp_data = all_play_types.fillna(0)\n",
    "complete_pbp_data.isna().sum()"
   ]
  },
  {
   "cell_type": "code",
   "execution_count": 7,
   "metadata": {},
   "outputs": [],
   "source": [
    "# Creating a new column for next_play taking the values of play_type and shifting up by 1\n",
    "# IMPORTANT: RUN ONLY ONCE!\n",
    "complete_pbp_data['next_play'] = complete_pbp_data.play_type.shift(-1)"
   ]
  },
  {
   "cell_type": "code",
   "execution_count": 8,
   "metadata": {},
   "outputs": [
    {
     "name": "stderr",
     "output_type": "stream",
     "text": [
      "/anaconda3/envs/nflData/lib/python3.7/site-packages/pandas/core/frame.py:4102: SettingWithCopyWarning: \n",
      "A value is trying to be set on a copy of a slice from a DataFrame\n",
      "\n",
      "See the caveats in the documentation: http://pandas.pydata.org/pandas-docs/stable/user_guide/indexing.html#returning-a-view-versus-a-copy\n",
      "  errors=errors,\n"
     ]
    }
   ],
   "source": [
    "# Because we shifted the row up by 1, the last play of a game is now the first play of the previous.\n",
    "# Since there is not play after the last one of a game, we can remove the last row of each game, which will now be populated by 'kickoff' from the previous game\n",
    "# We can also remove the last row\n",
    "# We can also remove kickoffs (down=0)\n",
    "final_table = complete_pbp_data[(complete_pbp_data.next_play != 'kickoff') & (complete_pbp_data.down != 0.0) & (complete_pbp_data.down != 4.0)]\n",
    "final_table.drop(final_table.tail(1).index, inplace=True)"
   ]
  },
  {
   "cell_type": "code",
   "execution_count": 9,
   "metadata": {},
   "outputs": [
    {
     "data": {
      "text/html": [
       "<div>\n",
       "<style scoped>\n",
       "    .dataframe tbody tr th:only-of-type {\n",
       "        vertical-align: middle;\n",
       "    }\n",
       "\n",
       "    .dataframe tbody tr th {\n",
       "        vertical-align: top;\n",
       "    }\n",
       "\n",
       "    .dataframe thead th {\n",
       "        text-align: right;\n",
       "    }\n",
       "</style>\n",
       "<table border=\"1\" class=\"dataframe\">\n",
       "  <thead>\n",
       "    <tr style=\"text-align: right;\">\n",
       "      <th></th>\n",
       "      <th>game_id</th>\n",
       "      <th>home_team</th>\n",
       "      <th>away_team</th>\n",
       "      <th>side_of_field</th>\n",
       "      <th>yardline_100</th>\n",
       "      <th>qtr</th>\n",
       "      <th>down</th>\n",
       "      <th>goal_to_go</th>\n",
       "      <th>ydstogo</th>\n",
       "      <th>play_type</th>\n",
       "      <th>posteam_timeouts_remaining</th>\n",
       "      <th>defteam_timeouts_remaining</th>\n",
       "      <th>posteam_score</th>\n",
       "      <th>defteam_score</th>\n",
       "      <th>score_differential</th>\n",
       "      <th>next_play</th>\n",
       "    </tr>\n",
       "  </thead>\n",
       "  <tbody>\n",
       "    <tr>\n",
       "      <td>1</td>\n",
       "      <td>2009091000</td>\n",
       "      <td>PIT</td>\n",
       "      <td>TEN</td>\n",
       "      <td>PIT</td>\n",
       "      <td>58.0</td>\n",
       "      <td>1</td>\n",
       "      <td>1.0</td>\n",
       "      <td>0.0</td>\n",
       "      <td>10</td>\n",
       "      <td>pass</td>\n",
       "      <td>3.0</td>\n",
       "      <td>3.0</td>\n",
       "      <td>0.0</td>\n",
       "      <td>0.0</td>\n",
       "      <td>0.0</td>\n",
       "      <td>run</td>\n",
       "    </tr>\n",
       "    <tr>\n",
       "      <td>2</td>\n",
       "      <td>2009091000</td>\n",
       "      <td>PIT</td>\n",
       "      <td>TEN</td>\n",
       "      <td>PIT</td>\n",
       "      <td>53.0</td>\n",
       "      <td>1</td>\n",
       "      <td>2.0</td>\n",
       "      <td>0.0</td>\n",
       "      <td>5</td>\n",
       "      <td>run</td>\n",
       "      <td>3.0</td>\n",
       "      <td>3.0</td>\n",
       "      <td>0.0</td>\n",
       "      <td>0.0</td>\n",
       "      <td>0.0</td>\n",
       "      <td>pass</td>\n",
       "    </tr>\n",
       "    <tr>\n",
       "      <td>3</td>\n",
       "      <td>2009091000</td>\n",
       "      <td>PIT</td>\n",
       "      <td>TEN</td>\n",
       "      <td>PIT</td>\n",
       "      <td>56.0</td>\n",
       "      <td>1</td>\n",
       "      <td>3.0</td>\n",
       "      <td>0.0</td>\n",
       "      <td>8</td>\n",
       "      <td>pass</td>\n",
       "      <td>3.0</td>\n",
       "      <td>3.0</td>\n",
       "      <td>0.0</td>\n",
       "      <td>0.0</td>\n",
       "      <td>0.0</td>\n",
       "      <td>punt</td>\n",
       "    </tr>\n",
       "    <tr>\n",
       "      <td>5</td>\n",
       "      <td>2009091000</td>\n",
       "      <td>PIT</td>\n",
       "      <td>TEN</td>\n",
       "      <td>TEN</td>\n",
       "      <td>98.0</td>\n",
       "      <td>1</td>\n",
       "      <td>1.0</td>\n",
       "      <td>0.0</td>\n",
       "      <td>10</td>\n",
       "      <td>run</td>\n",
       "      <td>3.0</td>\n",
       "      <td>3.0</td>\n",
       "      <td>0.0</td>\n",
       "      <td>0.0</td>\n",
       "      <td>0.0</td>\n",
       "      <td>pass</td>\n",
       "    </tr>\n",
       "    <tr>\n",
       "      <td>6</td>\n",
       "      <td>2009091000</td>\n",
       "      <td>PIT</td>\n",
       "      <td>TEN</td>\n",
       "      <td>TEN</td>\n",
       "      <td>98.0</td>\n",
       "      <td>1</td>\n",
       "      <td>2.0</td>\n",
       "      <td>0.0</td>\n",
       "      <td>10</td>\n",
       "      <td>pass</td>\n",
       "      <td>3.0</td>\n",
       "      <td>3.0</td>\n",
       "      <td>0.0</td>\n",
       "      <td>0.0</td>\n",
       "      <td>0.0</td>\n",
       "      <td>run</td>\n",
       "    </tr>\n",
       "  </tbody>\n",
       "</table>\n",
       "</div>"
      ],
      "text/plain": [
       "      game_id home_team away_team side_of_field  yardline_100  qtr  down  \\\n",
       "1  2009091000       PIT       TEN           PIT          58.0    1   1.0   \n",
       "2  2009091000       PIT       TEN           PIT          53.0    1   2.0   \n",
       "3  2009091000       PIT       TEN           PIT          56.0    1   3.0   \n",
       "5  2009091000       PIT       TEN           TEN          98.0    1   1.0   \n",
       "6  2009091000       PIT       TEN           TEN          98.0    1   2.0   \n",
       "\n",
       "   goal_to_go  ydstogo play_type  posteam_timeouts_remaining  \\\n",
       "1         0.0       10      pass                         3.0   \n",
       "2         0.0        5       run                         3.0   \n",
       "3         0.0        8      pass                         3.0   \n",
       "5         0.0       10       run                         3.0   \n",
       "6         0.0       10      pass                         3.0   \n",
       "\n",
       "   defteam_timeouts_remaining  posteam_score  defteam_score  \\\n",
       "1                         3.0            0.0            0.0   \n",
       "2                         3.0            0.0            0.0   \n",
       "3                         3.0            0.0            0.0   \n",
       "5                         3.0            0.0            0.0   \n",
       "6                         3.0            0.0            0.0   \n",
       "\n",
       "   score_differential next_play  \n",
       "1                 0.0       run  \n",
       "2                 0.0      pass  \n",
       "3                 0.0      punt  \n",
       "5                 0.0      pass  \n",
       "6                 0.0       run  "
      ]
     },
     "execution_count": 9,
     "metadata": {},
     "output_type": "execute_result"
    }
   ],
   "source": [
    "# We can also remove the last row\n",
    "final_table.head()"
   ]
  },
  {
   "cell_type": "code",
   "execution_count": 10,
   "metadata": {},
   "outputs": [
    {
     "data": {
      "text/plain": [
       "array(['run', 'pass', 'punt', 'field_goal', 'no_play', 'extra_point',\n",
       "       'qb_kneel', 'qb_spike'], dtype=object)"
      ]
     },
     "execution_count": 10,
     "metadata": {},
     "output_type": "execute_result"
    }
   ],
   "source": [
    "final_table.next_play.unique()"
   ]
  },
  {
   "cell_type": "code",
   "execution_count": 11,
   "metadata": {},
   "outputs": [
    {
     "data": {
      "text/html": [
       "<div>\n",
       "<style scoped>\n",
       "    .dataframe tbody tr th:only-of-type {\n",
       "        vertical-align: middle;\n",
       "    }\n",
       "\n",
       "    .dataframe tbody tr th {\n",
       "        vertical-align: top;\n",
       "    }\n",
       "\n",
       "    .dataframe thead th {\n",
       "        text-align: right;\n",
       "    }\n",
       "</style>\n",
       "<table border=\"1\" class=\"dataframe\">\n",
       "  <thead>\n",
       "    <tr style=\"text-align: right;\">\n",
       "      <th></th>\n",
       "      <th>game_id</th>\n",
       "      <th>home_team</th>\n",
       "      <th>away_team</th>\n",
       "      <th>side_of_field</th>\n",
       "      <th>yardline_100</th>\n",
       "      <th>qtr</th>\n",
       "      <th>down</th>\n",
       "      <th>goal_to_go</th>\n",
       "      <th>ydstogo</th>\n",
       "      <th>play_type</th>\n",
       "      <th>posteam_timeouts_remaining</th>\n",
       "      <th>defteam_timeouts_remaining</th>\n",
       "      <th>posteam_score</th>\n",
       "      <th>defteam_score</th>\n",
       "      <th>score_differential</th>\n",
       "      <th>next_play</th>\n",
       "    </tr>\n",
       "  </thead>\n",
       "  <tbody>\n",
       "    <tr>\n",
       "      <td>1</td>\n",
       "      <td>2009091000</td>\n",
       "      <td>PIT</td>\n",
       "      <td>TEN</td>\n",
       "      <td>PIT</td>\n",
       "      <td>58.0</td>\n",
       "      <td>1</td>\n",
       "      <td>1.0</td>\n",
       "      <td>0.0</td>\n",
       "      <td>10</td>\n",
       "      <td>pass</td>\n",
       "      <td>3.0</td>\n",
       "      <td>3.0</td>\n",
       "      <td>0.0</td>\n",
       "      <td>0.0</td>\n",
       "      <td>0.0</td>\n",
       "      <td>run</td>\n",
       "    </tr>\n",
       "    <tr>\n",
       "      <td>2</td>\n",
       "      <td>2009091000</td>\n",
       "      <td>PIT</td>\n",
       "      <td>TEN</td>\n",
       "      <td>PIT</td>\n",
       "      <td>53.0</td>\n",
       "      <td>1</td>\n",
       "      <td>2.0</td>\n",
       "      <td>0.0</td>\n",
       "      <td>5</td>\n",
       "      <td>run</td>\n",
       "      <td>3.0</td>\n",
       "      <td>3.0</td>\n",
       "      <td>0.0</td>\n",
       "      <td>0.0</td>\n",
       "      <td>0.0</td>\n",
       "      <td>pass</td>\n",
       "    </tr>\n",
       "    <tr>\n",
       "      <td>5</td>\n",
       "      <td>2009091000</td>\n",
       "      <td>PIT</td>\n",
       "      <td>TEN</td>\n",
       "      <td>TEN</td>\n",
       "      <td>98.0</td>\n",
       "      <td>1</td>\n",
       "      <td>1.0</td>\n",
       "      <td>0.0</td>\n",
       "      <td>10</td>\n",
       "      <td>run</td>\n",
       "      <td>3.0</td>\n",
       "      <td>3.0</td>\n",
       "      <td>0.0</td>\n",
       "      <td>0.0</td>\n",
       "      <td>0.0</td>\n",
       "      <td>pass</td>\n",
       "    </tr>\n",
       "    <tr>\n",
       "      <td>6</td>\n",
       "      <td>2009091000</td>\n",
       "      <td>PIT</td>\n",
       "      <td>TEN</td>\n",
       "      <td>TEN</td>\n",
       "      <td>98.0</td>\n",
       "      <td>1</td>\n",
       "      <td>2.0</td>\n",
       "      <td>0.0</td>\n",
       "      <td>10</td>\n",
       "      <td>pass</td>\n",
       "      <td>3.0</td>\n",
       "      <td>3.0</td>\n",
       "      <td>0.0</td>\n",
       "      <td>0.0</td>\n",
       "      <td>0.0</td>\n",
       "      <td>run</td>\n",
       "    </tr>\n",
       "    <tr>\n",
       "      <td>9</td>\n",
       "      <td>2009091000</td>\n",
       "      <td>PIT</td>\n",
       "      <td>TEN</td>\n",
       "      <td>TEN</td>\n",
       "      <td>43.0</td>\n",
       "      <td>1</td>\n",
       "      <td>1.0</td>\n",
       "      <td>0.0</td>\n",
       "      <td>10</td>\n",
       "      <td>pass</td>\n",
       "      <td>3.0</td>\n",
       "      <td>3.0</td>\n",
       "      <td>0.0</td>\n",
       "      <td>0.0</td>\n",
       "      <td>0.0</td>\n",
       "      <td>pass</td>\n",
       "    </tr>\n",
       "  </tbody>\n",
       "</table>\n",
       "</div>"
      ],
      "text/plain": [
       "      game_id home_team away_team side_of_field  yardline_100  qtr  down  \\\n",
       "1  2009091000       PIT       TEN           PIT          58.0    1   1.0   \n",
       "2  2009091000       PIT       TEN           PIT          53.0    1   2.0   \n",
       "5  2009091000       PIT       TEN           TEN          98.0    1   1.0   \n",
       "6  2009091000       PIT       TEN           TEN          98.0    1   2.0   \n",
       "9  2009091000       PIT       TEN           TEN          43.0    1   1.0   \n",
       "\n",
       "   goal_to_go  ydstogo play_type  posteam_timeouts_remaining  \\\n",
       "1         0.0       10      pass                         3.0   \n",
       "2         0.0        5       run                         3.0   \n",
       "5         0.0       10       run                         3.0   \n",
       "6         0.0       10      pass                         3.0   \n",
       "9         0.0       10      pass                         3.0   \n",
       "\n",
       "   defteam_timeouts_remaining  posteam_score  defteam_score  \\\n",
       "1                         3.0            0.0            0.0   \n",
       "2                         3.0            0.0            0.0   \n",
       "5                         3.0            0.0            0.0   \n",
       "6                         3.0            0.0            0.0   \n",
       "9                         3.0            0.0            0.0   \n",
       "\n",
       "   score_differential next_play  \n",
       "1                 0.0       run  \n",
       "2                 0.0      pass  \n",
       "5                 0.0      pass  \n",
       "6                 0.0       run  \n",
       "9                 0.0      pass  "
      ]
     },
     "execution_count": 11,
     "metadata": {},
     "output_type": "execute_result"
    }
   ],
   "source": [
    "# Also removing 'no_play', 'extra_point','qb_kneel', 'qb_spike' classes\n",
    "only_productive_plays = final_table[(final_table.next_play == 'pass') | \n",
    "                                    (final_table.next_play == 'run')]\n",
    "only_productive_plays.head()"
   ]
  },
  {
   "cell_type": "code",
   "execution_count": 12,
   "metadata": {},
   "outputs": [
    {
     "data": {
      "text/plain": [
       "array(['run', 'pass'], dtype=object)"
      ]
     },
     "execution_count": 12,
     "metadata": {},
     "output_type": "execute_result"
    }
   ],
   "source": [
    "only_productive_plays.next_play.unique()"
   ]
  },
  {
   "cell_type": "code",
   "execution_count": 13,
   "metadata": {},
   "outputs": [
    {
     "data": {
      "text/html": [
       "<div>\n",
       "<style scoped>\n",
       "    .dataframe tbody tr th:only-of-type {\n",
       "        vertical-align: middle;\n",
       "    }\n",
       "\n",
       "    .dataframe tbody tr th {\n",
       "        vertical-align: top;\n",
       "    }\n",
       "\n",
       "    .dataframe thead th {\n",
       "        text-align: right;\n",
       "    }\n",
       "</style>\n",
       "<table border=\"1\" class=\"dataframe\">\n",
       "  <thead>\n",
       "    <tr style=\"text-align: right;\">\n",
       "      <th></th>\n",
       "      <th>game_id</th>\n",
       "      <th>home_team</th>\n",
       "      <th>away_team</th>\n",
       "      <th>side_of_field</th>\n",
       "      <th>yardline_100</th>\n",
       "      <th>qtr</th>\n",
       "      <th>down</th>\n",
       "      <th>goal_to_go</th>\n",
       "      <th>ydstogo</th>\n",
       "      <th>play_type</th>\n",
       "      <th>posteam_timeouts_remaining</th>\n",
       "      <th>defteam_timeouts_remaining</th>\n",
       "      <th>posteam_score</th>\n",
       "      <th>defteam_score</th>\n",
       "      <th>score_differential</th>\n",
       "      <th>next_play</th>\n",
       "    </tr>\n",
       "  </thead>\n",
       "  <tbody>\n",
       "    <tr>\n",
       "      <td>1</td>\n",
       "      <td>2009091000</td>\n",
       "      <td>PIT</td>\n",
       "      <td>TEN</td>\n",
       "      <td>PIT</td>\n",
       "      <td>58.0</td>\n",
       "      <td>1</td>\n",
       "      <td>1.0</td>\n",
       "      <td>0.0</td>\n",
       "      <td>10</td>\n",
       "      <td>pass</td>\n",
       "      <td>3.0</td>\n",
       "      <td>3.0</td>\n",
       "      <td>0.0</td>\n",
       "      <td>0.0</td>\n",
       "      <td>0.0</td>\n",
       "      <td>run</td>\n",
       "    </tr>\n",
       "    <tr>\n",
       "      <td>2</td>\n",
       "      <td>2009091000</td>\n",
       "      <td>PIT</td>\n",
       "      <td>TEN</td>\n",
       "      <td>PIT</td>\n",
       "      <td>53.0</td>\n",
       "      <td>1</td>\n",
       "      <td>2.0</td>\n",
       "      <td>0.0</td>\n",
       "      <td>5</td>\n",
       "      <td>run</td>\n",
       "      <td>3.0</td>\n",
       "      <td>3.0</td>\n",
       "      <td>0.0</td>\n",
       "      <td>0.0</td>\n",
       "      <td>0.0</td>\n",
       "      <td>pass</td>\n",
       "    </tr>\n",
       "    <tr>\n",
       "      <td>5</td>\n",
       "      <td>2009091000</td>\n",
       "      <td>PIT</td>\n",
       "      <td>TEN</td>\n",
       "      <td>TEN</td>\n",
       "      <td>98.0</td>\n",
       "      <td>1</td>\n",
       "      <td>1.0</td>\n",
       "      <td>0.0</td>\n",
       "      <td>10</td>\n",
       "      <td>run</td>\n",
       "      <td>3.0</td>\n",
       "      <td>3.0</td>\n",
       "      <td>0.0</td>\n",
       "      <td>0.0</td>\n",
       "      <td>0.0</td>\n",
       "      <td>pass</td>\n",
       "    </tr>\n",
       "    <tr>\n",
       "      <td>6</td>\n",
       "      <td>2009091000</td>\n",
       "      <td>PIT</td>\n",
       "      <td>TEN</td>\n",
       "      <td>TEN</td>\n",
       "      <td>98.0</td>\n",
       "      <td>1</td>\n",
       "      <td>2.0</td>\n",
       "      <td>0.0</td>\n",
       "      <td>10</td>\n",
       "      <td>pass</td>\n",
       "      <td>3.0</td>\n",
       "      <td>3.0</td>\n",
       "      <td>0.0</td>\n",
       "      <td>0.0</td>\n",
       "      <td>0.0</td>\n",
       "      <td>run</td>\n",
       "    </tr>\n",
       "    <tr>\n",
       "      <td>9</td>\n",
       "      <td>2009091000</td>\n",
       "      <td>PIT</td>\n",
       "      <td>TEN</td>\n",
       "      <td>TEN</td>\n",
       "      <td>43.0</td>\n",
       "      <td>1</td>\n",
       "      <td>1.0</td>\n",
       "      <td>0.0</td>\n",
       "      <td>10</td>\n",
       "      <td>pass</td>\n",
       "      <td>3.0</td>\n",
       "      <td>3.0</td>\n",
       "      <td>0.0</td>\n",
       "      <td>0.0</td>\n",
       "      <td>0.0</td>\n",
       "      <td>pass</td>\n",
       "    </tr>\n",
       "  </tbody>\n",
       "</table>\n",
       "</div>"
      ],
      "text/plain": [
       "      game_id home_team away_team side_of_field  yardline_100  qtr  down  \\\n",
       "1  2009091000       PIT       TEN           PIT          58.0    1   1.0   \n",
       "2  2009091000       PIT       TEN           PIT          53.0    1   2.0   \n",
       "5  2009091000       PIT       TEN           TEN          98.0    1   1.0   \n",
       "6  2009091000       PIT       TEN           TEN          98.0    1   2.0   \n",
       "9  2009091000       PIT       TEN           TEN          43.0    1   1.0   \n",
       "\n",
       "   goal_to_go  ydstogo play_type  posteam_timeouts_remaining  \\\n",
       "1         0.0       10      pass                         3.0   \n",
       "2         0.0        5       run                         3.0   \n",
       "5         0.0       10       run                         3.0   \n",
       "6         0.0       10      pass                         3.0   \n",
       "9         0.0       10      pass                         3.0   \n",
       "\n",
       "   defteam_timeouts_remaining  posteam_score  defteam_score  \\\n",
       "1                         3.0            0.0            0.0   \n",
       "2                         3.0            0.0            0.0   \n",
       "5                         3.0            0.0            0.0   \n",
       "6                         3.0            0.0            0.0   \n",
       "9                         3.0            0.0            0.0   \n",
       "\n",
       "   score_differential next_play  \n",
       "1                 0.0       run  \n",
       "2                 0.0      pass  \n",
       "5                 0.0      pass  \n",
       "6                 0.0       run  \n",
       "9                 0.0      pass  "
      ]
     },
     "execution_count": 13,
     "metadata": {},
     "output_type": "execute_result"
    }
   ],
   "source": [
    "only_productive_plays.head()"
   ]
  },
  {
   "cell_type": "code",
   "execution_count": 14,
   "metadata": {},
   "outputs": [
    {
     "data": {
      "text/plain": [
       "game_id                       0\n",
       "home_team                     0\n",
       "away_team                     0\n",
       "side_of_field                 0\n",
       "yardline_100                  0\n",
       "qtr                           0\n",
       "down                          0\n",
       "goal_to_go                    0\n",
       "ydstogo                       0\n",
       "play_type                     0\n",
       "posteam_timeouts_remaining    0\n",
       "defteam_timeouts_remaining    0\n",
       "posteam_score                 0\n",
       "defteam_score                 0\n",
       "score_differential            0\n",
       "next_play                     0\n",
       "dtype: int64"
      ]
     },
     "execution_count": 14,
     "metadata": {},
     "output_type": "execute_result"
    }
   ],
   "source": [
    "only_productive_plays.isna().sum()"
   ]
  },
  {
   "cell_type": "markdown",
   "metadata": {},
   "source": [
    "# Predicting next play"
   ]
  },
  {
   "cell_type": "markdown",
   "metadata": {},
   "source": [
    "### Data Pre-processing"
   ]
  },
  {
   "cell_type": "code",
   "execution_count": 15,
   "metadata": {},
   "outputs": [
    {
     "data": {
      "text/html": [
       "<div>\n",
       "<style scoped>\n",
       "    .dataframe tbody tr th:only-of-type {\n",
       "        vertical-align: middle;\n",
       "    }\n",
       "\n",
       "    .dataframe tbody tr th {\n",
       "        vertical-align: top;\n",
       "    }\n",
       "\n",
       "    .dataframe thead th {\n",
       "        text-align: right;\n",
       "    }\n",
       "</style>\n",
       "<table border=\"1\" class=\"dataframe\">\n",
       "  <thead>\n",
       "    <tr style=\"text-align: right;\">\n",
       "      <th></th>\n",
       "      <th>yardline_100</th>\n",
       "      <th>qtr</th>\n",
       "      <th>down</th>\n",
       "      <th>ydstogo</th>\n",
       "      <th>posteam_timeouts_remaining</th>\n",
       "      <th>defteam_timeouts_remaining</th>\n",
       "      <th>score_differential</th>\n",
       "    </tr>\n",
       "  </thead>\n",
       "  <tbody>\n",
       "    <tr>\n",
       "      <td>1</td>\n",
       "      <td>58.0</td>\n",
       "      <td>1</td>\n",
       "      <td>1.0</td>\n",
       "      <td>10</td>\n",
       "      <td>3.0</td>\n",
       "      <td>3.0</td>\n",
       "      <td>0.0</td>\n",
       "    </tr>\n",
       "    <tr>\n",
       "      <td>2</td>\n",
       "      <td>53.0</td>\n",
       "      <td>1</td>\n",
       "      <td>2.0</td>\n",
       "      <td>5</td>\n",
       "      <td>3.0</td>\n",
       "      <td>3.0</td>\n",
       "      <td>0.0</td>\n",
       "    </tr>\n",
       "    <tr>\n",
       "      <td>5</td>\n",
       "      <td>98.0</td>\n",
       "      <td>1</td>\n",
       "      <td>1.0</td>\n",
       "      <td>10</td>\n",
       "      <td>3.0</td>\n",
       "      <td>3.0</td>\n",
       "      <td>0.0</td>\n",
       "    </tr>\n",
       "    <tr>\n",
       "      <td>6</td>\n",
       "      <td>98.0</td>\n",
       "      <td>1</td>\n",
       "      <td>2.0</td>\n",
       "      <td>10</td>\n",
       "      <td>3.0</td>\n",
       "      <td>3.0</td>\n",
       "      <td>0.0</td>\n",
       "    </tr>\n",
       "    <tr>\n",
       "      <td>9</td>\n",
       "      <td>43.0</td>\n",
       "      <td>1</td>\n",
       "      <td>1.0</td>\n",
       "      <td>10</td>\n",
       "      <td>3.0</td>\n",
       "      <td>3.0</td>\n",
       "      <td>0.0</td>\n",
       "    </tr>\n",
       "  </tbody>\n",
       "</table>\n",
       "</div>"
      ],
      "text/plain": [
       "   yardline_100  qtr  down  ydstogo  posteam_timeouts_remaining  \\\n",
       "1          58.0    1   1.0       10                         3.0   \n",
       "2          53.0    1   2.0        5                         3.0   \n",
       "5          98.0    1   1.0       10                         3.0   \n",
       "6          98.0    1   2.0       10                         3.0   \n",
       "9          43.0    1   1.0       10                         3.0   \n",
       "\n",
       "   defteam_timeouts_remaining  score_differential  \n",
       "1                         3.0                 0.0  \n",
       "2                         3.0                 0.0  \n",
       "5                         3.0                 0.0  \n",
       "6                         3.0                 0.0  \n",
       "9                         3.0                 0.0  "
      ]
     },
     "execution_count": 15,
     "metadata": {},
     "output_type": "execute_result"
    }
   ],
   "source": [
    "# Selecting features data\n",
    "X = only_productive_plays.drop(columns=['game_id','home_team', 'away_team', 'goal_to_go','side_of_field', 'play_type', 'next_play', 'posteam_score', 'defteam_score'], axis=0)\n",
    "X.head()"
   ]
  },
  {
   "cell_type": "code",
   "execution_count": 16,
   "metadata": {},
   "outputs": [
    {
     "data": {
      "text/plain": [
       "1     run\n",
       "2    pass\n",
       "5    pass\n",
       "6     run\n",
       "9    pass\n",
       "Name: next_play, dtype: object"
      ]
     },
     "execution_count": 16,
     "metadata": {},
     "output_type": "execute_result"
    }
   ],
   "source": [
    "# Selecting outcome\n",
    "y = only_productive_plays.next_play\n",
    "y.head()"
   ]
  },
  {
   "cell_type": "code",
   "execution_count": 17,
   "metadata": {},
   "outputs": [
    {
     "data": {
      "text/plain": [
       "array(['run', 'pass'], dtype=object)"
      ]
     },
     "execution_count": 17,
     "metadata": {},
     "output_type": "execute_result"
    }
   ],
   "source": [
    "y.unique()"
   ]
  },
  {
   "cell_type": "code",
   "execution_count": 18,
   "metadata": {},
   "outputs": [
    {
     "name": "stdout",
     "output_type": "stream",
     "text": [
      "(255102, 7) (255102,)\n"
     ]
    }
   ],
   "source": [
    "print(X.shape, y.shape)"
   ]
  },
  {
   "cell_type": "code",
   "execution_count": 19,
   "metadata": {},
   "outputs": [
    {
     "data": {
      "image/png": "[encoded data removed]",
      "text/plain": [
       "<Figure size 720x720 with 2 Axes>"
      ]
     },
     "metadata": {
      "needs_background": "light"
     },
     "output_type": "display_data"
    }
   ],
   "source": [
    "# Correlation between features\n",
    "plt.figure(figsize=(10,10))\n",
    "sns.heatmap(X.corr(),\n",
    "            vmin=-1,\n",
    "            cmap='coolwarm',\n",
    "            annot=True);"
   ]
  },
  {
   "cell_type": "markdown",
   "metadata": {},
   "source": [
    "## Logistic Regression Model"
   ]
  },
  {
   "cell_type": "code",
   "execution_count": 20,
   "metadata": {},
   "outputs": [],
   "source": [
    "from sklearn.model_selection import train_test_split\n",
    "from sklearn.preprocessing import LabelEncoder, MinMaxScaler\n",
    "from tensorflow.keras.utils import to_categorical"
   ]
  },
  {
   "cell_type": "code",
   "execution_count": 21,
   "metadata": {},
   "outputs": [],
   "source": [
    "X_train, X_test, y_train, y_test = train_test_split(X, y, random_state=42, stratify=y)"
   ]
  },
  {
   "cell_type": "code",
   "execution_count": 22,
   "metadata": {},
   "outputs": [],
   "source": [
    "# Scaling features\n",
    "X_scaler = MinMaxScaler().fit(X_train)\n",
    "X_train_scaled = X_scaler.transform(X_train)\n",
    "X_test_scaled = X_scaler.transform(X_test)"
   ]
  },
  {
   "cell_type": "code",
   "execution_count": 23,
   "metadata": {},
   "outputs": [],
   "source": [
    "# Step 1: Label-encode data set\n",
    "label_encoder = LabelEncoder()\n",
    "\n",
    "label_encoder.fit(y_train)\n",
    "encoded_y_train = label_encoder.transform(y_train)\n",
    "encoded_y_test = label_encoder.transform(y_test)"
   ]
  },
  {
   "cell_type": "code",
   "execution_count": 24,
   "metadata": {},
   "outputs": [
    {
     "data": {
      "text/plain": [
       "array([0, 0, 0, ..., 1, 0, 1])"
      ]
     },
     "execution_count": 24,
     "metadata": {},
     "output_type": "execute_result"
    }
   ],
   "source": [
    "encoded_y_train"
   ]
  },
  {
   "cell_type": "code",
   "execution_count": 25,
   "metadata": {},
   "outputs": [
    {
     "data": {
      "text/plain": [
       "LogisticRegression(C=1.0, class_weight=None, dual=False, fit_intercept=True,\n",
       "                   intercept_scaling=1, l1_ratio=None, max_iter=100,\n",
       "                   multi_class='multinomial', n_jobs=None, penalty='l2',\n",
       "                   random_state=None, solver='newton-cg', tol=0.0001, verbose=0,\n",
       "                   warm_start=False)"
      ]
     },
     "execution_count": 25,
     "metadata": {},
     "output_type": "execute_result"
    }
   ],
   "source": [
    "# Creating a logistic regression model\n",
    "from sklearn.linear_model import LogisticRegression\n",
    "classifier = LogisticRegression(multi_class='multinomial', solver ='newton-cg')\n",
    "classifier"
   ]
  },
  {
   "cell_type": "code",
   "execution_count": 26,
   "metadata": {},
   "outputs": [
    {
     "data": {
      "text/plain": [
       "LogisticRegression(C=1.0, class_weight=None, dual=False, fit_intercept=True,\n",
       "                   intercept_scaling=1, l1_ratio=None, max_iter=100,\n",
       "                   multi_class='multinomial', n_jobs=None, penalty='l2',\n",
       "                   random_state=None, solver='newton-cg', tol=0.0001, verbose=0,\n",
       "                   warm_start=False)"
      ]
     },
     "execution_count": 26,
     "metadata": {},
     "output_type": "execute_result"
    }
   ],
   "source": [
    "classifier.fit(X_train_scaled, y_train)"
   ]
  },
  {
   "cell_type": "code",
   "execution_count": 27,
   "metadata": {},
   "outputs": [
    {
     "name": "stdout",
     "output_type": "stream",
     "text": [
      "Training Data Score: 0.6074292046036608\n",
      "Testing Data Score: 0.6074855745107878\n"
     ]
    }
   ],
   "source": [
    "print(f\"Training Data Score: {classifier.score(X_train_scaled, y_train)}\")\n",
    "print(f\"Testing Data Score: {classifier.score(X_test_scaled, y_test)}\")"
   ]
  },
  {
   "cell_type": "code",
   "execution_count": 28,
   "metadata": {},
   "outputs": [
    {
     "data": {
      "text/html": [
       "<div>\n",
       "<style scoped>\n",
       "    .dataframe tbody tr th:only-of-type {\n",
       "        vertical-align: middle;\n",
       "    }\n",
       "\n",
       "    .dataframe tbody tr th {\n",
       "        vertical-align: top;\n",
       "    }\n",
       "\n",
       "    .dataframe thead th {\n",
       "        text-align: right;\n",
       "    }\n",
       "</style>\n",
       "<table border=\"1\" class=\"dataframe\">\n",
       "  <thead>\n",
       "    <tr style=\"text-align: right;\">\n",
       "      <th></th>\n",
       "      <th>Prediction</th>\n",
       "      <th>Actual</th>\n",
       "    </tr>\n",
       "  </thead>\n",
       "  <tbody>\n",
       "    <tr>\n",
       "      <td>177840</td>\n",
       "      <td>pass</td>\n",
       "      <td>run</td>\n",
       "    </tr>\n",
       "    <tr>\n",
       "      <td>82537</td>\n",
       "      <td>pass</td>\n",
       "      <td>run</td>\n",
       "    </tr>\n",
       "    <tr>\n",
       "      <td>219697</td>\n",
       "      <td>pass</td>\n",
       "      <td>pass</td>\n",
       "    </tr>\n",
       "    <tr>\n",
       "      <td>23601</td>\n",
       "      <td>pass</td>\n",
       "      <td>run</td>\n",
       "    </tr>\n",
       "    <tr>\n",
       "      <td>390939</td>\n",
       "      <td>pass</td>\n",
       "      <td>run</td>\n",
       "    </tr>\n",
       "  </tbody>\n",
       "</table>\n",
       "</div>"
      ],
      "text/plain": [
       "       Prediction Actual\n",
       "177840       pass    run\n",
       "82537        pass    run\n",
       "219697       pass   pass\n",
       "23601        pass    run\n",
       "390939       pass    run"
      ]
     },
     "execution_count": 28,
     "metadata": {},
     "output_type": "execute_result"
    }
   ],
   "source": [
    "predictions = classifier.predict(X_test)\n",
    "predictions_LR = pd.DataFrame({\"Prediction\": predictions, \"Actual\": y_test})\n",
    "predictions_LR.head()"
   ]
  },
  {
   "cell_type": "code",
   "execution_count": 29,
   "metadata": {},
   "outputs": [],
   "source": [
    "hypothetical_case = X.loc[[1]]"
   ]
  },
  {
   "cell_type": "code",
   "execution_count": 38,
   "metadata": {},
   "outputs": [
    {
     "data": {
      "text/html": [
       "<div>\n",
       "<style scoped>\n",
       "    .dataframe tbody tr th:only-of-type {\n",
       "        vertical-align: middle;\n",
       "    }\n",
       "\n",
       "    .dataframe tbody tr th {\n",
       "        vertical-align: top;\n",
       "    }\n",
       "\n",
       "    .dataframe thead th {\n",
       "        text-align: right;\n",
       "    }\n",
       "</style>\n",
       "<table border=\"1\" class=\"dataframe\">\n",
       "  <thead>\n",
       "    <tr style=\"text-align: right;\">\n",
       "      <th></th>\n",
       "      <th>yardline_100</th>\n",
       "      <th>qtr</th>\n",
       "      <th>down</th>\n",
       "      <th>ydstogo</th>\n",
       "      <th>posteam_timeouts_remaining</th>\n",
       "      <th>defteam_timeouts_remaining</th>\n",
       "      <th>score_differential</th>\n",
       "    </tr>\n",
       "  </thead>\n",
       "  <tbody>\n",
       "    <tr>\n",
       "      <td>1</td>\n",
       "      <td>58.0</td>\n",
       "      <td>1</td>\n",
       "      <td>1.0</td>\n",
       "      <td>-20</td>\n",
       "      <td>3.0</td>\n",
       "      <td>3.0</td>\n",
       "      <td>-20</td>\n",
       "    </tr>\n",
       "  </tbody>\n",
       "</table>\n",
       "</div>"
      ],
      "text/plain": [
       "   yardline_100  qtr  down  ydstogo  posteam_timeouts_remaining  \\\n",
       "1          58.0    1   1.0      -20                         3.0   \n",
       "\n",
       "   defteam_timeouts_remaining  score_differential  \n",
       "1                         3.0                 -20  "
      ]
     },
     "execution_count": 38,
     "metadata": {},
     "output_type": "execute_result"
    }
   ],
   "source": [
    "hypothetical_case.ydstogo = hypothetical_case.score_differential = -20\n",
    "hypothetical_case.head()"
   ]
  },
  {
   "cell_type": "code",
   "execution_count": 39,
   "metadata": {},
   "outputs": [
    {
     "data": {
      "text/plain": [
       "array(['pass'], dtype=object)"
      ]
     },
     "execution_count": 39,
     "metadata": {},
     "output_type": "execute_result"
    }
   ],
   "source": [
    "hypothetical_prediction = classifier.predict(hypothetical_case)\n",
    "hypothetical_prediction"
   ]
  },
  {
   "cell_type": "code",
   "execution_count": 32,
   "metadata": {},
   "outputs": [
    {
     "data": {
      "text/plain": [
       "array([ 0.01667113, -0.03380099, -0.2498796 , -1.21812486,  0.31278691,\n",
       "        0.06430276,  1.61937117])"
      ]
     },
     "execution_count": 32,
     "metadata": {},
     "output_type": "execute_result"
    }
   ],
   "source": [
    "coefficients = classifier.coef_\n",
    "coefficients_array = coefficients[0]\n",
    "coefficients_array"
   ]
  },
  {
   "cell_type": "code",
   "execution_count": 33,
   "metadata": {},
   "outputs": [
    {
     "data": {
      "text/plain": [
       "array([1.01681087, 0.96676388, 0.77889455, 0.29578428, 1.36723016,\n",
       "       1.06641522, 5.04991379])"
      ]
     },
     "execution_count": 33,
     "metadata": {},
     "output_type": "execute_result"
    }
   ],
   "source": [
    "# Calculating odds ratio\n",
    "odds_ratio = np.exp(coefficients_array)\n",
    "odds_ratio"
   ]
  },
  {
   "cell_type": "code",
   "execution_count": 34,
   "metadata": {},
   "outputs": [
    {
     "data": {
      "text/plain": [
       "Index(['yardline_100', 'qtr', 'down', 'ydstogo', 'posteam_timeouts_remaining',\n",
       "       'defteam_timeouts_remaining', 'score_differential'],\n",
       "      dtype='object')"
      ]
     },
     "execution_count": 34,
     "metadata": {},
     "output_type": "execute_result"
    }
   ],
   "source": [
    "X.columns"
   ]
  },
  {
   "cell_type": "code",
   "execution_count": 35,
   "metadata": {},
   "outputs": [
    {
     "data": {
      "text/html": [
       "<div>\n",
       "<style scoped>\n",
       "    .dataframe tbody tr th:only-of-type {\n",
       "        vertical-align: middle;\n",
       "    }\n",
       "\n",
       "    .dataframe tbody tr th {\n",
       "        vertical-align: top;\n",
       "    }\n",
       "\n",
       "    .dataframe thead th {\n",
       "        text-align: right;\n",
       "    }\n",
       "</style>\n",
       "<table border=\"1\" class=\"dataframe\">\n",
       "  <thead>\n",
       "    <tr style=\"text-align: right;\">\n",
       "      <th></th>\n",
       "      <th>yardline_100</th>\n",
       "      <th>qtr</th>\n",
       "      <th>down</th>\n",
       "      <th>ydstogo</th>\n",
       "      <th>posteam_timeouts_remaining</th>\n",
       "      <th>defteam_timeouts_remaining</th>\n",
       "      <th>score_differential</th>\n",
       "    </tr>\n",
       "  </thead>\n",
       "  <tbody>\n",
       "    <tr>\n",
       "      <td>0</td>\n",
       "      <td>1.016811</td>\n",
       "      <td>0.966764</td>\n",
       "      <td>0.778895</td>\n",
       "      <td>0.295784</td>\n",
       "      <td>1.36723</td>\n",
       "      <td>1.066415</td>\n",
       "      <td>5.049914</td>\n",
       "    </tr>\n",
       "  </tbody>\n",
       "</table>\n",
       "</div>"
      ],
      "text/plain": [
       "   yardline_100       qtr      down   ydstogo  posteam_timeouts_remaining  \\\n",
       "0      1.016811  0.966764  0.778895  0.295784                     1.36723   \n",
       "\n",
       "   defteam_timeouts_remaining  score_differential  \n",
       "0                    1.066415            5.049914  "
      ]
     },
     "execution_count": 35,
     "metadata": {},
     "output_type": "execute_result"
    }
   ],
   "source": [
    "odds_ratio_df = pd.DataFrame({\"yardline_100\": [odds_ratio[0]], \n",
    "                           \"qtr\": [odds_ratio[1]], \n",
    "                           \"down\": [odds_ratio[2]], \n",
    "                           \"ydstogo\": [odds_ratio[3]], \n",
    "                           \"posteam_timeouts_remaining\": [odds_ratio[4]], \n",
    "                           \"defteam_timeouts_remaining\": [odds_ratio[5]], \n",
    "                           \"score_differential\": [odds_ratio[6]]})\n",
    "odds_ratio_df.head()"
   ]
  },
  {
   "cell_type": "code",
   "execution_count": 36,
   "metadata": {},
   "outputs": [],
   "source": [
    "x = np.arange(len(odds_ratio_df.columns))\n",
    "y_pos = odds_ratio_df.values"
   ]
  },
  {
   "cell_type": "code",
   "execution_count": 37,
   "metadata": {},
   "outputs": [
    {
     "data": {
      "text/plain": [
       "Text(0, 0.5, 'Odds Ratio')"
      ]
     },
     "execution_count": 37,
     "metadata": {},
     "output_type": "execute_result"
    },
    {
     "data": {
      "image/png": "[encoded data removed]",
      "text/plain": [
       "<Figure size 432x288 with 1 Axes>"
      ]
     },
     "metadata": {
      "needs_background": "light"
     },
     "output_type": "display_data"
    }
   ],
   "source": [
    "plt.bar(np.arange(len(odds_ratio)), odds_ratio)\n",
    "plt.xticks(np.arange(7), ('yardline_100', 'qtr', 'down', 'ydstogo', 'posteam_timeouts_remaining', 'defteam_timeouts_remaining', 'score_differential'), rotation=90)\n",
    "plt.ylabel('Odds Ratio')"
   ]
  },
  {
   "cell_type": "code",
   "execution_count": null,
   "metadata": {},
   "outputs": [],
   "source": []
  },
  {
   "cell_type": "markdown",
   "metadata": {},
   "source": [
    "## Deep Learning Model"
   ]
  },
  {
   "cell_type": "code",
   "execution_count": 28,
   "metadata": {},
   "outputs": [],
   "source": [
    "from tensorflow.keras.models import Sequential\n",
    "from tensorflow.keras.layers import Dense"
   ]
  },
  {
   "cell_type": "code",
   "execution_count": 29,
   "metadata": {},
   "outputs": [],
   "source": [
    "# Create model and add layers\n",
    "model = Sequential()\n",
    "model.add(Dense(units=100, activation='relu', input_dim=10))\n",
    "model.add(Dense(units=100, activation='relu'))\n",
    "model.add(Dense(units=3, activation='softmax'))"
   ]
  },
  {
   "cell_type": "code",
   "execution_count": 30,
   "metadata": {},
   "outputs": [],
   "source": [
    "# Compile and fit the model\n",
    "model.compile(optimizer='adam',\n",
    "              loss='sparse_categorical_crossentropy',\n",
    "              metrics=['accuracy'])"
   ]
  },
  {
   "cell_type": "code",
   "execution_count": 31,
   "metadata": {},
   "outputs": [
    {
     "name": "stdout",
     "output_type": "stream",
     "text": [
      "Model: \"sequential\"\n",
      "_________________________________________________________________\n",
      "Layer (type)                 Output Shape              Param #   \n",
      "=================================================================\n",
      "dense (Dense)                (None, 100)               1100      \n",
      "_________________________________________________________________\n",
      "dense_1 (Dense)              (None, 100)               10100     \n",
      "_________________________________________________________________\n",
      "dense_2 (Dense)              (None, 3)                 303       \n",
      "=================================================================\n",
      "Total params: 11,503\n",
      "Trainable params: 11,503\n",
      "Non-trainable params: 0\n",
      "_________________________________________________________________\n"
     ]
    }
   ],
   "source": [
    "model.summary()"
   ]
  },
  {
   "cell_type": "code",
   "execution_count": 32,
   "metadata": {},
   "outputs": [
    {
     "name": "stdout",
     "output_type": "stream",
     "text": [
      "(246859, 10)\n",
      "(246859,)\n"
     ]
    }
   ],
   "source": [
    "print(X_train_scaled.shape)\n",
    "print(encoded_y_train.shape)"
   ]
  },
  {
   "cell_type": "code",
   "execution_count": 33,
   "metadata": {},
   "outputs": [
    {
     "data": {
      "text/plain": [
       "array([[0.84848485, 0.25      , 0.5       , ..., 0.        , 0.04918033,\n",
       "        0.47457627],\n",
       "       [0.80808081, 0.25      , 0.5       , ..., 0.1147541 , 0.2295082 ,\n",
       "        0.44067797],\n",
       "       [0.35353535, 0.75      , 0.        , ..., 0.59016393, 0.37704918,\n",
       "        0.61016949],\n",
       "       ...,\n",
       "       [0.64646465, 0.        , 0.5       , ..., 0.1147541 , 0.        ,\n",
       "        0.55932203],\n",
       "       [0.70707071, 0.25      , 0.25      , ..., 0.04918033, 0.32786885,\n",
       "        0.3559322 ],\n",
       "       [0.75757576, 0.25      , 0.25      , ..., 0.1147541 , 0.1147541 ,\n",
       "        0.5       ]])"
      ]
     },
     "execution_count": 33,
     "metadata": {},
     "output_type": "execute_result"
    }
   ],
   "source": [
    "X_train_scaled"
   ]
  },
  {
   "cell_type": "code",
   "execution_count": 34,
   "metadata": {},
   "outputs": [
    {
     "data": {
      "text/plain": [
       "array([1, 1, 2, ..., 1, 1, 2])"
      ]
     },
     "execution_count": 34,
     "metadata": {},
     "output_type": "execute_result"
    }
   ],
   "source": [
    "encoded_y_train"
   ]
  },
  {
   "cell_type": "code",
   "execution_count": 35,
   "metadata": {},
   "outputs": [
    {
     "name": "stdout",
     "output_type": "stream",
     "text": [
      "Train on 246859 samples\n",
      "Epoch 1/60\n",
      "246859/246859 - 9s - loss: 0.6927 - accuracy: 0.6007\n",
      "Epoch 2/60\n",
      "246859/246859 - 8s - loss: 0.6709 - accuracy: 0.6139\n",
      "Epoch 3/60\n",
      "246859/246859 - 8s - loss: 0.6673 - accuracy: 0.6173\n",
      "Epoch 4/60\n",
      "246859/246859 - 8s - loss: 0.6658 - accuracy: 0.6177\n",
      "Epoch 5/60\n",
      "246859/246859 - 8s - loss: 0.6647 - accuracy: 0.6199\n",
      "Epoch 6/60\n",
      "246859/246859 - 8s - loss: 0.6637 - accuracy: 0.6200\n",
      "Epoch 7/60\n",
      "246859/246859 - 8s - loss: 0.6631 - accuracy: 0.6209\n",
      "Epoch 8/60\n",
      "246859/246859 - 8s - loss: 0.6623 - accuracy: 0.6219\n",
      "Epoch 9/60\n",
      "246859/246859 - 8s - loss: 0.6619 - accuracy: 0.6218\n",
      "Epoch 10/60\n",
      "246859/246859 - 9s - loss: 0.6613 - accuracy: 0.6222\n",
      "Epoch 11/60\n",
      "246859/246859 - 8s - loss: 0.6610 - accuracy: 0.6233\n",
      "Epoch 12/60\n",
      "246859/246859 - 8s - loss: 0.6608 - accuracy: 0.6239\n",
      "Epoch 13/60\n",
      "246859/246859 - 8s - loss: 0.6604 - accuracy: 0.6234\n",
      "Epoch 14/60\n",
      "246859/246859 - 8s - loss: 0.6602 - accuracy: 0.6240\n",
      "Epoch 15/60\n",
      "246859/246859 - 8s - loss: 0.6598 - accuracy: 0.6242\n",
      "Epoch 16/60\n",
      "246859/246859 - 9s - loss: 0.6594 - accuracy: 0.6246\n",
      "Epoch 17/60\n",
      "246859/246859 - 9s - loss: 0.6594 - accuracy: 0.6249\n",
      "Epoch 18/60\n",
      "246859/246859 - 8s - loss: 0.6591 - accuracy: 0.6249\n",
      "Epoch 19/60\n",
      "246859/246859 - 8s - loss: 0.6589 - accuracy: 0.6246\n",
      "Epoch 20/60\n",
      "246859/246859 - 8s - loss: 0.6587 - accuracy: 0.6250\n",
      "Epoch 21/60\n",
      "246859/246859 - 8s - loss: 0.6586 - accuracy: 0.6256\n",
      "Epoch 22/60\n",
      "246859/246859 - 8s - loss: 0.6584 - accuracy: 0.6248\n",
      "Epoch 23/60\n",
      "246859/246859 - 8s - loss: 0.6583 - accuracy: 0.6254\n",
      "Epoch 24/60\n",
      "246859/246859 - 8s - loss: 0.6581 - accuracy: 0.6255\n",
      "Epoch 25/60\n",
      "246859/246859 - 8s - loss: 0.6579 - accuracy: 0.6256\n",
      "Epoch 26/60\n",
      "246859/246859 - 9s - loss: 0.6579 - accuracy: 0.6260\n",
      "Epoch 27/60\n",
      "246859/246859 - 8s - loss: 0.6578 - accuracy: 0.6258\n",
      "Epoch 28/60\n",
      "246859/246859 - 9s - loss: 0.6576 - accuracy: 0.6252\n",
      "Epoch 29/60\n",
      "246859/246859 - 8s - loss: 0.6574 - accuracy: 0.6261\n",
      "Epoch 30/60\n",
      "246859/246859 - 9s - loss: 0.6574 - accuracy: 0.6267\n",
      "Epoch 31/60\n",
      "246859/246859 - 9s - loss: 0.6573 - accuracy: 0.6259\n",
      "Epoch 32/60\n",
      "246859/246859 - 9s - loss: 0.6573 - accuracy: 0.6265\n",
      "Epoch 33/60\n",
      "246859/246859 - 9s - loss: 0.6570 - accuracy: 0.6267\n",
      "Epoch 34/60\n",
      "246859/246859 - 10s - loss: 0.6570 - accuracy: 0.6264\n",
      "Epoch 35/60\n",
      "246859/246859 - 9s - loss: 0.6568 - accuracy: 0.6267\n",
      "Epoch 36/60\n",
      "246859/246859 - 9s - loss: 0.6568 - accuracy: 0.6260\n",
      "Epoch 37/60\n",
      "246859/246859 - 9s - loss: 0.6567 - accuracy: 0.6269\n",
      "Epoch 38/60\n",
      "246859/246859 - 9s - loss: 0.6565 - accuracy: 0.6267\n",
      "Epoch 39/60\n",
      "246859/246859 - 9s - loss: 0.6563 - accuracy: 0.6279\n",
      "Epoch 40/60\n",
      "246859/246859 - 9s - loss: 0.6566 - accuracy: 0.6264\n",
      "Epoch 41/60\n",
      "246859/246859 - 9s - loss: 0.6564 - accuracy: 0.6257\n",
      "Epoch 42/60\n",
      "246859/246859 - 9s - loss: 0.6562 - accuracy: 0.6266\n",
      "Epoch 43/60\n",
      "246859/246859 - 9s - loss: 0.6563 - accuracy: 0.6272\n",
      "Epoch 44/60\n",
      "246859/246859 - 9s - loss: 0.6562 - accuracy: 0.6271\n",
      "Epoch 45/60\n",
      "246859/246859 - 9s - loss: 0.6560 - accuracy: 0.6272\n",
      "Epoch 46/60\n",
      "246859/246859 - 9s - loss: 0.6559 - accuracy: 0.6275\n",
      "Epoch 47/60\n",
      "246859/246859 - 9s - loss: 0.6559 - accuracy: 0.6272\n",
      "Epoch 48/60\n",
      "246859/246859 - 9s - loss: 0.6558 - accuracy: 0.6276\n",
      "Epoch 49/60\n",
      "246859/246859 - 9s - loss: 0.6558 - accuracy: 0.6275\n",
      "Epoch 50/60\n",
      "246859/246859 - 9s - loss: 0.6555 - accuracy: 0.6273\n",
      "Epoch 51/60\n",
      "246859/246859 - 9s - loss: 0.6556 - accuracy: 0.6270\n",
      "Epoch 52/60\n",
      "246859/246859 - 9s - loss: 0.6556 - accuracy: 0.6269\n",
      "Epoch 53/60\n",
      "246859/246859 - 9s - loss: 0.6557 - accuracy: 0.6271\n",
      "Epoch 54/60\n",
      "246859/246859 - 9s - loss: 0.6552 - accuracy: 0.6280\n",
      "Epoch 55/60\n",
      "246859/246859 - 9s - loss: 0.6552 - accuracy: 0.6274\n",
      "Epoch 56/60\n",
      "246859/246859 - 9s - loss: 0.6552 - accuracy: 0.6270\n",
      "Epoch 57/60\n",
      "246859/246859 - 9s - loss: 0.6551 - accuracy: 0.6275\n",
      "Epoch 58/60\n",
      "246859/246859 - 9s - loss: 0.6549 - accuracy: 0.6283\n",
      "Epoch 59/60\n",
      "246859/246859 - 9s - loss: 0.6551 - accuracy: 0.6275\n",
      "Epoch 60/60\n",
      "246859/246859 - 8s - loss: 0.6549 - accuracy: 0.6271\n"
     ]
    },
    {
     "data": {
      "text/plain": [
       "<tensorflow.python.keras.callbacks.History at 0x1a57120dd0>"
      ]
     },
     "execution_count": 35,
     "metadata": {},
     "output_type": "execute_result"
    }
   ],
   "source": [
    "model.fit(\n",
    "    X_train_scaled,\n",
    "    encoded_y_train,\n",
    "    epochs=60,\n",
    "    shuffle=True,\n",
    "    verbose=2\n",
    ")"
   ]
  },
  {
   "cell_type": "code",
   "execution_count": 37,
   "metadata": {},
   "outputs": [
    {
     "name": "stdout",
     "output_type": "stream",
     "text": [
      "82287/1 - 1s - loss: 0.5883 - accuracy: 0.6234\n",
      "Normal Neural Network - Loss: 0.6638459794562214, Accuracy: 0.6234155893325806\n"
     ]
    }
   ],
   "source": [
    "model_loss, model_accuracy = model.evaluate(\n",
    "    X_test_scaled, encoded_y_test, verbose=2)\n",
    "print(\n",
    "    f\"Normal Neural Network - Loss: {model_loss}, Accuracy: {model_accuracy}\")"
   ]
  },
  {
   "cell_type": "code",
   "execution_count": null,
   "metadata": {},
   "outputs": [],
   "source": []
  }
 ],
 "metadata": {
  "kernelspec": {
   "display_name": "nflData",
   "language": "python",
   "name": "nfldata"
  },
  "language_info": {
   "codemirror_mode": {
    "name": "ipython",
    "version": 3
   },
   "file_extension": ".py",
   "mimetype": "text/x-python",
   "name": "python",
   "nbconvert_exporter": "python",
   "pygments_lexer": "ipython3",
   "version": "3.7.4"
  }
 },
 "nbformat": 4,
 "nbformat_minor": 4
}
