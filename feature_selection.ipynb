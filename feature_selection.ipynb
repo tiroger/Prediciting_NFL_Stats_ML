{
 "cells": [
  {
   "cell_type": "code",
   "execution_count": 63,
   "metadata": {},
   "outputs": [],
   "source": [
    "###################################\n",
    "# Importing libraries and modules #\n",
    "###################################\n",
    "\n",
    "# Data Wrangling\n",
    "import pandas as pd\n",
    "import numpy as np\n",
    "import collections\n",
    "from scipy.stats import norm\n",
    "import pandas_profiling\n",
    "\n",
    "# Plotting libraries\n",
    "import matplotlib.pyplot as plt\n",
    "import seaborn as sns\n",
    "import plotly.graph_objects as go\n",
    "import chart_studio.tools as tls\n",
    "import chart_studio\n",
    "import chart_studio.plotly as py\n",
    "from plotly.offline import download_plotlyjs, init_notebook_mode, plot, iplot\n",
    "from plotly_api_key import plotly_api_key\n",
    "\n",
    "# Machine learning libraries\n",
    "from sklearn.model_selection import StratifiedKFold\n",
    "from sklearn.feature_selection import RFECV\n",
    "from sklearn.ensemble import RandomForestClassifier\n",
    "from sklearn.model_selection import train_test_split\n",
    "from sklearn.preprocessing import LabelEncoder, PowerTransformer #applies a power transformation to each feature to make the data more Gaussian-like.\n",
    "from sklearn.model_selection import StratifiedKFold\n",
    "\n",
    "# Library to balance targets\n",
    "from imblearn.over_sampling import SMOTE\n",
    "from collections import Counter\n",
    "\n",
    "# import labelencoder\n",
    "from sklearn.preprocessing import LabelEncoder\n",
    "# import OneHotEncoder\n",
    "from sklearn.preprocessing import OneHotEncoder"
   ]
  },
  {
   "cell_type": "code",
   "execution_count": 3,
   "metadata": {},
   "outputs": [],
   "source": [
    "chart_studio.tools.set_credentials_file(username='rogerlefort', api_key=plotly_api_key)"
   ]
  },
  {
   "cell_type": "code",
   "execution_count": 4,
   "metadata": {},
   "outputs": [],
   "source": [
    "###################################\n",
    "#        Data Preprocessing       #\n",
    "###################################"
   ]
  },
  {
   "cell_type": "code",
   "execution_count": 5,
   "metadata": {},
   "outputs": [
    {
     "data": {
      "text/html": [
       "<div>\n",
       "<style scoped>\n",
       "    .dataframe tbody tr th:only-of-type {\n",
       "        vertical-align: middle;\n",
       "    }\n",
       "\n",
       "    .dataframe tbody tr th {\n",
       "        vertical-align: top;\n",
       "    }\n",
       "\n",
       "    .dataframe thead th {\n",
       "        text-align: right;\n",
       "    }\n",
       "</style>\n",
       "<table border=\"1\" class=\"dataframe\">\n",
       "  <thead>\n",
       "    <tr style=\"text-align: right;\">\n",
       "      <th></th>\n",
       "      <th>yardline_100</th>\n",
       "      <th>qtr</th>\n",
       "      <th>half_seconds_remaining</th>\n",
       "      <th>game_seconds_remaining</th>\n",
       "      <th>down</th>\n",
       "      <th>ydstogo</th>\n",
       "      <th>posteam_timeouts_remaining</th>\n",
       "      <th>defteam_timeouts_remaining</th>\n",
       "      <th>score_differential</th>\n",
       "      <th>play_type</th>\n",
       "      <th>desc</th>\n",
       "      <th>temperature</th>\n",
       "      <th>snow</th>\n",
       "      <th>windspeed</th>\n",
       "      <th>visibility</th>\n",
       "      <th>humidity</th>\n",
       "      <th>precipitation</th>\n",
       "    </tr>\n",
       "  </thead>\n",
       "  <tbody>\n",
       "    <tr>\n",
       "      <td>0</td>\n",
       "      <td>58.0</td>\n",
       "      <td>1</td>\n",
       "      <td>1793.0</td>\n",
       "      <td>3593.0</td>\n",
       "      <td>1.0</td>\n",
       "      <td>10</td>\n",
       "      <td>3.0</td>\n",
       "      <td>3.0</td>\n",
       "      <td>0.0</td>\n",
       "      <td>pass</td>\n",
       "      <td>Sunny</td>\n",
       "      <td>73</td>\n",
       "      <td>0.0</td>\n",
       "      <td>17</td>\n",
       "      <td>6</td>\n",
       "      <td>32</td>\n",
       "      <td>0.0</td>\n",
       "    </tr>\n",
       "    <tr>\n",
       "      <td>1</td>\n",
       "      <td>53.0</td>\n",
       "      <td>1</td>\n",
       "      <td>1756.0</td>\n",
       "      <td>3556.0</td>\n",
       "      <td>2.0</td>\n",
       "      <td>5</td>\n",
       "      <td>3.0</td>\n",
       "      <td>3.0</td>\n",
       "      <td>0.0</td>\n",
       "      <td>run</td>\n",
       "      <td>Sunny</td>\n",
       "      <td>73</td>\n",
       "      <td>0.0</td>\n",
       "      <td>17</td>\n",
       "      <td>6</td>\n",
       "      <td>32</td>\n",
       "      <td>0.0</td>\n",
       "    </tr>\n",
       "    <tr>\n",
       "      <td>2</td>\n",
       "      <td>56.0</td>\n",
       "      <td>1</td>\n",
       "      <td>1715.0</td>\n",
       "      <td>3515.0</td>\n",
       "      <td>3.0</td>\n",
       "      <td>8</td>\n",
       "      <td>3.0</td>\n",
       "      <td>3.0</td>\n",
       "      <td>0.0</td>\n",
       "      <td>pass</td>\n",
       "      <td>Sunny</td>\n",
       "      <td>73</td>\n",
       "      <td>0.0</td>\n",
       "      <td>17</td>\n",
       "      <td>6</td>\n",
       "      <td>32</td>\n",
       "      <td>0.0</td>\n",
       "    </tr>\n",
       "    <tr>\n",
       "      <td>3</td>\n",
       "      <td>56.0</td>\n",
       "      <td>1</td>\n",
       "      <td>1707.0</td>\n",
       "      <td>3507.0</td>\n",
       "      <td>4.0</td>\n",
       "      <td>8</td>\n",
       "      <td>3.0</td>\n",
       "      <td>3.0</td>\n",
       "      <td>0.0</td>\n",
       "      <td>punt</td>\n",
       "      <td>Sunny</td>\n",
       "      <td>73</td>\n",
       "      <td>0.0</td>\n",
       "      <td>17</td>\n",
       "      <td>6</td>\n",
       "      <td>32</td>\n",
       "      <td>0.0</td>\n",
       "    </tr>\n",
       "    <tr>\n",
       "      <td>4</td>\n",
       "      <td>98.0</td>\n",
       "      <td>1</td>\n",
       "      <td>1696.0</td>\n",
       "      <td>3496.0</td>\n",
       "      <td>1.0</td>\n",
       "      <td>10</td>\n",
       "      <td>3.0</td>\n",
       "      <td>3.0</td>\n",
       "      <td>0.0</td>\n",
       "      <td>run</td>\n",
       "      <td>Sunny</td>\n",
       "      <td>73</td>\n",
       "      <td>0.0</td>\n",
       "      <td>17</td>\n",
       "      <td>6</td>\n",
       "      <td>32</td>\n",
       "      <td>0.0</td>\n",
       "    </tr>\n",
       "  </tbody>\n",
       "</table>\n",
       "</div>"
      ],
      "text/plain": [
       "   yardline_100  qtr  half_seconds_remaining  game_seconds_remaining  down  \\\n",
       "0          58.0    1                  1793.0                  3593.0   1.0   \n",
       "1          53.0    1                  1756.0                  3556.0   2.0   \n",
       "2          56.0    1                  1715.0                  3515.0   3.0   \n",
       "3          56.0    1                  1707.0                  3507.0   4.0   \n",
       "4          98.0    1                  1696.0                  3496.0   1.0   \n",
       "\n",
       "   ydstogo  posteam_timeouts_remaining  defteam_timeouts_remaining  \\\n",
       "0       10                         3.0                         3.0   \n",
       "1        5                         3.0                         3.0   \n",
       "2        8                         3.0                         3.0   \n",
       "3        8                         3.0                         3.0   \n",
       "4       10                         3.0                         3.0   \n",
       "\n",
       "   score_differential play_type   desc  temperature  snow  windspeed  \\\n",
       "0                 0.0      pass  Sunny           73   0.0         17   \n",
       "1                 0.0       run  Sunny           73   0.0         17   \n",
       "2                 0.0      pass  Sunny           73   0.0         17   \n",
       "3                 0.0      punt  Sunny           73   0.0         17   \n",
       "4                 0.0       run  Sunny           73   0.0         17   \n",
       "\n",
       "   visibility  humidity  precipitation  \n",
       "0           6        32            0.0  \n",
       "1           6        32            0.0  \n",
       "2           6        32            0.0  \n",
       "3           6        32            0.0  \n",
       "4           6        32            0.0  "
      ]
     },
     "execution_count": 5,
     "metadata": {},
     "output_type": "execute_result"
    }
   ],
   "source": [
    "# Opening dataset\n",
    "play_by_play = pd.read_csv('resources/final_table_for_model_build.csv')\n",
    "play_by_play.head()"
   ]
  },
  {
   "cell_type": "code",
   "execution_count": 6,
   "metadata": {},
   "outputs": [
    {
     "data": {
      "text/plain": [
       "pass          186363\n",
       "run           132668\n",
       "no_play        24134\n",
       "punt           23937\n",
       "field_goal      9790\n",
       "qb_kneel        3757\n",
       "qb_spike         690\n",
       "Name: play_type, dtype: int64"
      ]
     },
     "execution_count": 6,
     "metadata": {},
     "output_type": "execute_result"
    }
   ],
   "source": [
    "play_by_play.play_type.value_counts()"
   ]
  },
  {
   "cell_type": "code",
   "execution_count": 7,
   "metadata": {},
   "outputs": [
    {
     "data": {
      "image/png": "[encoded data removed]",
      "text/plain": [
       "<Figure size 432x288 with 1 Axes>"
      ]
     },
     "metadata": {
      "needs_background": "light"
     },
     "output_type": "display_data"
    }
   ],
   "source": [
    "# Plotting play types\n",
    "x_pos = play_by_play.play_type.unique()\n",
    "y_values = play_by_play.play_type.value_counts()\n",
    "plt.ylabel('Play Type')\n",
    "plt.xlabel('Number of Plays')\n",
    "plt.title('Play Breakdown')\n",
    "plt.grid(False)\n",
    "plt.barh(x_pos, y_values, color='SkyBlue')\n",
    "plt.savefig('plots/play_breakdown_pre.png', dpi=600)\n",
    "plt.tight_layout()\n",
    "plt.show()"
   ]
  },
  {
   "cell_type": "code",
   "execution_count": 8,
   "metadata": {},
   "outputs": [
    {
     "data": {
      "text/html": [
       "<iframe\n",
       "    scrolling=\"no\"\n",
       "    width=\"100%\"\n",
       "    height=\"545px\"\n",
       "    src=\"iframe_figures/figure_8.html\"\n",
       "    frameborder=\"0\"\n",
       "    allowfullscreen\n",
       "></iframe>\n"
      ]
     },
     "metadata": {},
     "output_type": "display_data"
    },
    {
     "data": {
      "text/plain": [
       "'https://plot.ly/~rogerlefort/4/'"
      ]
     },
     "execution_count": 8,
     "metadata": {},
     "output_type": "execute_result"
    }
   ],
   "source": [
    "play_breakdown_before = go.Figure(data=[go.Pie(labels=x_pos, values=y_values, hole=.5)])\n",
    "\n",
    "play_breakdown_before.update_layout(\n",
    "    title_text=\"Play Breakdown - All Plays\",\n",
    ")\n",
    "play_breakdown_before.update_layout(\n",
    "    legend=go.layout.Legend(\n",
    "        x=-1,\n",
    "        y=1,\n",
    "        traceorder=\"normal\",\n",
    "        font=dict(\n",
    "            family=\"Avenir\",\n",
    "            size=18,\n",
    "            color=\"black\"\n",
    "        ),\n",
    "#         bgcolor=\"LightSteelBlue\",\n",
    "#         bordercolor=\"Black\",\n",
    "#         borderwidth=2\n",
    "    )\n",
    ")\n",
    "play_breakdown_before.show(renderer=\"iframe\", width=500, height=500)\n",
    "py.plot(play_breakdown_before, filename = 'play_breakdown_before', auto_open=False)"
   ]
  },
  {
   "cell_type": "markdown",
   "metadata": {},
   "source": [
    "For our analysis, we'll only consider pass and run plays"
   ]
  },
  {
   "cell_type": "code",
   "execution_count": 9,
   "metadata": {},
   "outputs": [
    {
     "data": {
      "text/html": [
       "<div>\n",
       "<style scoped>\n",
       "    .dataframe tbody tr th:only-of-type {\n",
       "        vertical-align: middle;\n",
       "    }\n",
       "\n",
       "    .dataframe tbody tr th {\n",
       "        vertical-align: top;\n",
       "    }\n",
       "\n",
       "    .dataframe thead th {\n",
       "        text-align: right;\n",
       "    }\n",
       "</style>\n",
       "<table border=\"1\" class=\"dataframe\">\n",
       "  <thead>\n",
       "    <tr style=\"text-align: right;\">\n",
       "      <th></th>\n",
       "      <th>yardline_100</th>\n",
       "      <th>qtr</th>\n",
       "      <th>half_seconds_remaining</th>\n",
       "      <th>game_seconds_remaining</th>\n",
       "      <th>down</th>\n",
       "      <th>ydstogo</th>\n",
       "      <th>posteam_timeouts_remaining</th>\n",
       "      <th>defteam_timeouts_remaining</th>\n",
       "      <th>score_differential</th>\n",
       "      <th>play_type</th>\n",
       "      <th>desc</th>\n",
       "      <th>temperature</th>\n",
       "      <th>snow</th>\n",
       "      <th>windspeed</th>\n",
       "      <th>visibility</th>\n",
       "      <th>humidity</th>\n",
       "      <th>precipitation</th>\n",
       "    </tr>\n",
       "  </thead>\n",
       "  <tbody>\n",
       "    <tr>\n",
       "      <td>0</td>\n",
       "      <td>58.0</td>\n",
       "      <td>1</td>\n",
       "      <td>1793.0</td>\n",
       "      <td>3593.0</td>\n",
       "      <td>1.0</td>\n",
       "      <td>10</td>\n",
       "      <td>3.0</td>\n",
       "      <td>3.0</td>\n",
       "      <td>0.0</td>\n",
       "      <td>pass</td>\n",
       "      <td>Sunny</td>\n",
       "      <td>73</td>\n",
       "      <td>0.0</td>\n",
       "      <td>17</td>\n",
       "      <td>6</td>\n",
       "      <td>32</td>\n",
       "      <td>0.0</td>\n",
       "    </tr>\n",
       "    <tr>\n",
       "      <td>1</td>\n",
       "      <td>53.0</td>\n",
       "      <td>1</td>\n",
       "      <td>1756.0</td>\n",
       "      <td>3556.0</td>\n",
       "      <td>2.0</td>\n",
       "      <td>5</td>\n",
       "      <td>3.0</td>\n",
       "      <td>3.0</td>\n",
       "      <td>0.0</td>\n",
       "      <td>run</td>\n",
       "      <td>Sunny</td>\n",
       "      <td>73</td>\n",
       "      <td>0.0</td>\n",
       "      <td>17</td>\n",
       "      <td>6</td>\n",
       "      <td>32</td>\n",
       "      <td>0.0</td>\n",
       "    </tr>\n",
       "    <tr>\n",
       "      <td>2</td>\n",
       "      <td>56.0</td>\n",
       "      <td>1</td>\n",
       "      <td>1715.0</td>\n",
       "      <td>3515.0</td>\n",
       "      <td>3.0</td>\n",
       "      <td>8</td>\n",
       "      <td>3.0</td>\n",
       "      <td>3.0</td>\n",
       "      <td>0.0</td>\n",
       "      <td>pass</td>\n",
       "      <td>Sunny</td>\n",
       "      <td>73</td>\n",
       "      <td>0.0</td>\n",
       "      <td>17</td>\n",
       "      <td>6</td>\n",
       "      <td>32</td>\n",
       "      <td>0.0</td>\n",
       "    </tr>\n",
       "    <tr>\n",
       "      <td>4</td>\n",
       "      <td>98.0</td>\n",
       "      <td>1</td>\n",
       "      <td>1696.0</td>\n",
       "      <td>3496.0</td>\n",
       "      <td>1.0</td>\n",
       "      <td>10</td>\n",
       "      <td>3.0</td>\n",
       "      <td>3.0</td>\n",
       "      <td>0.0</td>\n",
       "      <td>run</td>\n",
       "      <td>Sunny</td>\n",
       "      <td>73</td>\n",
       "      <td>0.0</td>\n",
       "      <td>17</td>\n",
       "      <td>6</td>\n",
       "      <td>32</td>\n",
       "      <td>0.0</td>\n",
       "    </tr>\n",
       "    <tr>\n",
       "      <td>5</td>\n",
       "      <td>98.0</td>\n",
       "      <td>1</td>\n",
       "      <td>1660.0</td>\n",
       "      <td>3460.0</td>\n",
       "      <td>2.0</td>\n",
       "      <td>10</td>\n",
       "      <td>3.0</td>\n",
       "      <td>3.0</td>\n",
       "      <td>0.0</td>\n",
       "      <td>pass</td>\n",
       "      <td>Sunny</td>\n",
       "      <td>73</td>\n",
       "      <td>0.0</td>\n",
       "      <td>17</td>\n",
       "      <td>6</td>\n",
       "      <td>32</td>\n",
       "      <td>0.0</td>\n",
       "    </tr>\n",
       "  </tbody>\n",
       "</table>\n",
       "</div>"
      ],
      "text/plain": [
       "   yardline_100  qtr  half_seconds_remaining  game_seconds_remaining  down  \\\n",
       "0          58.0    1                  1793.0                  3593.0   1.0   \n",
       "1          53.0    1                  1756.0                  3556.0   2.0   \n",
       "2          56.0    1                  1715.0                  3515.0   3.0   \n",
       "4          98.0    1                  1696.0                  3496.0   1.0   \n",
       "5          98.0    1                  1660.0                  3460.0   2.0   \n",
       "\n",
       "   ydstogo  posteam_timeouts_remaining  defteam_timeouts_remaining  \\\n",
       "0       10                         3.0                         3.0   \n",
       "1        5                         3.0                         3.0   \n",
       "2        8                         3.0                         3.0   \n",
       "4       10                         3.0                         3.0   \n",
       "5       10                         3.0                         3.0   \n",
       "\n",
       "   score_differential play_type   desc  temperature  snow  windspeed  \\\n",
       "0                 0.0      pass  Sunny           73   0.0         17   \n",
       "1                 0.0       run  Sunny           73   0.0         17   \n",
       "2                 0.0      pass  Sunny           73   0.0         17   \n",
       "4                 0.0       run  Sunny           73   0.0         17   \n",
       "5                 0.0      pass  Sunny           73   0.0         17   \n",
       "\n",
       "   visibility  humidity  precipitation  \n",
       "0           6        32            0.0  \n",
       "1           6        32            0.0  \n",
       "2           6        32            0.0  \n",
       "4           6        32            0.0  \n",
       "5           6        32            0.0  "
      ]
     },
     "execution_count": 9,
     "metadata": {},
     "output_type": "execute_result"
    }
   ],
   "source": [
    "only_productive_plays = play_by_play[(play_by_play.play_type == 'pass') | (play_by_play.play_type == 'run')]\n",
    "# Removing duplicates\n",
    "only_productive_plays.drop_duplicates().head()"
   ]
  },
  {
   "cell_type": "code",
   "execution_count": 10,
   "metadata": {
    "scrolled": true
   },
   "outputs": [
    {
     "data": {
      "image/png": "[encoded data removed]",
      "text/plain": [
       "<Figure size 432x288 with 1 Axes>"
      ]
     },
     "metadata": {
      "needs_background": "light"
     },
     "output_type": "display_data"
    }
   ],
   "source": [
    "# Plotting play types with only passes and runs\n",
    "x_pos = only_productive_plays.play_type.unique()\n",
    "y_values = only_productive_plays.play_type.value_counts()\n",
    "plt.ylabel('Play Type')\n",
    "plt.xlabel('Number of Plays')\n",
    "plt.title('Play Breakdown')\n",
    "plt.grid(False)\n",
    "plt.barh(x_pos, y_values, color='teal')\n",
    "plt.tight_layout()\n",
    "plt.savefig('plots/play_breakdown_post.png', dpi=600)\n",
    "plt.show()"
   ]
  },
  {
   "cell_type": "code",
   "execution_count": 11,
   "metadata": {},
   "outputs": [
    {
     "data": {
      "text/html": [
       "<iframe\n",
       "    scrolling=\"no\"\n",
       "    width=\"100%\"\n",
       "    height=\"545px\"\n",
       "    src=\"iframe_figures/figure_11.html\"\n",
       "    frameborder=\"0\"\n",
       "    allowfullscreen\n",
       "></iframe>\n"
      ]
     },
     "metadata": {},
     "output_type": "display_data"
    },
    {
     "data": {
      "text/plain": [
       "'https://plot.ly/~rogerlefort/59/'"
      ]
     },
     "execution_count": 11,
     "metadata": {},
     "output_type": "execute_result"
    }
   ],
   "source": [
    "play_breakdown_after = go.Figure(data=[go.Pie(labels=x_pos, values=y_values, hole=.5)])\n",
    "\n",
    "play_breakdown_after.update_layout(\n",
    "    title_text=\"Play Breakdown - Runs and Passes\",\n",
    ")\n",
    "play_breakdown_after.update_layout(\n",
    "    legend=go.layout.Legend(\n",
    "        x=-1,\n",
    "        y=1,\n",
    "        traceorder=\"normal\",\n",
    "        font=dict(\n",
    "            family=\"Avenir\",\n",
    "            size=18,\n",
    "            color=\"black\"\n",
    "        ),\n",
    "#         bgcolor=\"LightSteelBlue\",\n",
    "#         bordercolor=\"Black\",\n",
    "#         borderwidth=2\n",
    "    )\n",
    ")\n",
    "play_breakdown_after.show(renderer=\"iframe\", width=500, height=500)\n",
    "py.plot(play_breakdown_after, filename = 'play_breakdown_after', auto_open=False)"
   ]
  },
  {
   "cell_type": "code",
   "execution_count": 12,
   "metadata": {},
   "outputs": [
    {
     "data": {
      "text/html": [
       "<div>\n",
       "<style scoped>\n",
       "    .dataframe tbody tr th:only-of-type {\n",
       "        vertical-align: middle;\n",
       "    }\n",
       "\n",
       "    .dataframe tbody tr th {\n",
       "        vertical-align: top;\n",
       "    }\n",
       "\n",
       "    .dataframe thead th {\n",
       "        text-align: right;\n",
       "    }\n",
       "</style>\n",
       "<table border=\"1\" class=\"dataframe\">\n",
       "  <thead>\n",
       "    <tr style=\"text-align: right;\">\n",
       "      <th></th>\n",
       "      <th>yardline_100</th>\n",
       "      <th>qtr</th>\n",
       "      <th>half_seconds_remaining</th>\n",
       "      <th>game_seconds_remaining</th>\n",
       "      <th>down</th>\n",
       "      <th>ydstogo</th>\n",
       "      <th>posteam_timeouts_remaining</th>\n",
       "      <th>defteam_timeouts_remaining</th>\n",
       "      <th>score_differential</th>\n",
       "      <th>temperature</th>\n",
       "      <th>snow</th>\n",
       "      <th>windspeed</th>\n",
       "      <th>visibility</th>\n",
       "      <th>humidity</th>\n",
       "      <th>precipitation</th>\n",
       "    </tr>\n",
       "  </thead>\n",
       "  <tbody>\n",
       "    <tr>\n",
       "      <td>0</td>\n",
       "      <td>58.0</td>\n",
       "      <td>1</td>\n",
       "      <td>1793.0</td>\n",
       "      <td>3593.0</td>\n",
       "      <td>1.0</td>\n",
       "      <td>10</td>\n",
       "      <td>3.0</td>\n",
       "      <td>3.0</td>\n",
       "      <td>0.0</td>\n",
       "      <td>73</td>\n",
       "      <td>0.0</td>\n",
       "      <td>17</td>\n",
       "      <td>6</td>\n",
       "      <td>32</td>\n",
       "      <td>0.0</td>\n",
       "    </tr>\n",
       "    <tr>\n",
       "      <td>1</td>\n",
       "      <td>53.0</td>\n",
       "      <td>1</td>\n",
       "      <td>1756.0</td>\n",
       "      <td>3556.0</td>\n",
       "      <td>2.0</td>\n",
       "      <td>5</td>\n",
       "      <td>3.0</td>\n",
       "      <td>3.0</td>\n",
       "      <td>0.0</td>\n",
       "      <td>73</td>\n",
       "      <td>0.0</td>\n",
       "      <td>17</td>\n",
       "      <td>6</td>\n",
       "      <td>32</td>\n",
       "      <td>0.0</td>\n",
       "    </tr>\n",
       "    <tr>\n",
       "      <td>2</td>\n",
       "      <td>56.0</td>\n",
       "      <td>1</td>\n",
       "      <td>1715.0</td>\n",
       "      <td>3515.0</td>\n",
       "      <td>3.0</td>\n",
       "      <td>8</td>\n",
       "      <td>3.0</td>\n",
       "      <td>3.0</td>\n",
       "      <td>0.0</td>\n",
       "      <td>73</td>\n",
       "      <td>0.0</td>\n",
       "      <td>17</td>\n",
       "      <td>6</td>\n",
       "      <td>32</td>\n",
       "      <td>0.0</td>\n",
       "    </tr>\n",
       "    <tr>\n",
       "      <td>4</td>\n",
       "      <td>98.0</td>\n",
       "      <td>1</td>\n",
       "      <td>1696.0</td>\n",
       "      <td>3496.0</td>\n",
       "      <td>1.0</td>\n",
       "      <td>10</td>\n",
       "      <td>3.0</td>\n",
       "      <td>3.0</td>\n",
       "      <td>0.0</td>\n",
       "      <td>73</td>\n",
       "      <td>0.0</td>\n",
       "      <td>17</td>\n",
       "      <td>6</td>\n",
       "      <td>32</td>\n",
       "      <td>0.0</td>\n",
       "    </tr>\n",
       "    <tr>\n",
       "      <td>5</td>\n",
       "      <td>98.0</td>\n",
       "      <td>1</td>\n",
       "      <td>1660.0</td>\n",
       "      <td>3460.0</td>\n",
       "      <td>2.0</td>\n",
       "      <td>10</td>\n",
       "      <td>3.0</td>\n",
       "      <td>3.0</td>\n",
       "      <td>0.0</td>\n",
       "      <td>73</td>\n",
       "      <td>0.0</td>\n",
       "      <td>17</td>\n",
       "      <td>6</td>\n",
       "      <td>32</td>\n",
       "      <td>0.0</td>\n",
       "    </tr>\n",
       "  </tbody>\n",
       "</table>\n",
       "</div>"
      ],
      "text/plain": [
       "   yardline_100  qtr  half_seconds_remaining  game_seconds_remaining  down  \\\n",
       "0          58.0    1                  1793.0                  3593.0   1.0   \n",
       "1          53.0    1                  1756.0                  3556.0   2.0   \n",
       "2          56.0    1                  1715.0                  3515.0   3.0   \n",
       "4          98.0    1                  1696.0                  3496.0   1.0   \n",
       "5          98.0    1                  1660.0                  3460.0   2.0   \n",
       "\n",
       "   ydstogo  posteam_timeouts_remaining  defteam_timeouts_remaining  \\\n",
       "0       10                         3.0                         3.0   \n",
       "1        5                         3.0                         3.0   \n",
       "2        8                         3.0                         3.0   \n",
       "4       10                         3.0                         3.0   \n",
       "5       10                         3.0                         3.0   \n",
       "\n",
       "   score_differential  temperature  snow  windspeed  visibility  humidity  \\\n",
       "0                 0.0           73   0.0         17           6        32   \n",
       "1                 0.0           73   0.0         17           6        32   \n",
       "2                 0.0           73   0.0         17           6        32   \n",
       "4                 0.0           73   0.0         17           6        32   \n",
       "5                 0.0           73   0.0         17           6        32   \n",
       "\n",
       "   precipitation  \n",
       "0            0.0  \n",
       "1            0.0  \n",
       "2            0.0  \n",
       "4            0.0  \n",
       "5            0.0  "
      ]
     },
     "execution_count": 12,
     "metadata": {},
     "output_type": "execute_result"
    }
   ],
   "source": [
    "# Selecting features\n",
    "X = only_productive_plays.drop(columns=['play_type', 'desc'])\n",
    "X.head()"
   ]
  },
  {
   "cell_type": "code",
   "execution_count": 13,
   "metadata": {},
   "outputs": [
    {
     "data": {
      "text/plain": [
       "0    pass\n",
       "1     run\n",
       "2    pass\n",
       "4     run\n",
       "5    pass\n",
       "Name: play_type, dtype: object"
      ]
     },
     "execution_count": 13,
     "metadata": {},
     "output_type": "execute_result"
    }
   ],
   "source": [
    "# Selecting target\n",
    "y = only_productive_plays.play_type\n",
    "y.head()"
   ]
  },
  {
   "cell_type": "code",
   "execution_count": 14,
   "metadata": {
    "scrolled": false
   },
   "outputs": [
    {
     "name": "stdout",
     "output_type": "stream",
     "text": [
      "(319031, 15)\n",
      "(319031,)\n"
     ]
    }
   ],
   "source": [
    "print(X.shape)\n",
    "print(y.shape)"
   ]
  },
  {
   "cell_type": "code",
   "execution_count": 15,
   "metadata": {},
   "outputs": [],
   "source": [
    "# Getting statistics on features"
   ]
  },
  {
   "cell_type": "code",
   "execution_count": 16,
   "metadata": {},
   "outputs": [],
   "source": [
    "# With Pandas profiling we can get a complete profile of all the features\n",
    "# dataframe_profile = only_productive_plays.profile_report()\n",
    "# dataframe_profile.to_file(output_file=\"dataset.html\")\n",
    "# dataframe_profile"
   ]
  },
  {
   "cell_type": "code",
   "execution_count": 17,
   "metadata": {},
   "outputs": [],
   "source": [
    "# Checking for highly correlated feature_names\n",
    "# rejected_variables = dataframe_profile.get_rejected_variables(threshold=0.8)\n",
    "# rejected_variables"
   ]
  },
  {
   "cell_type": "code",
   "execution_count": 18,
   "metadata": {},
   "outputs": [],
   "source": [
    "########################################\n",
    "#  FEATURE ENGINEERING AND SELECTION   #\n",
    "########################################"
   ]
  },
  {
   "cell_type": "code",
   "execution_count": 19,
   "metadata": {},
   "outputs": [],
   "source": [
    "# With Pandas profiling we can get a complete profile of all the features\n",
    "# feature_profile = X.profile_report()\n",
    "# feature_profile.to_file(output_file=\"feature_profile_preprocessing.html\")\n",
    "# feature_profile"
   ]
  },
  {
   "cell_type": "code",
   "execution_count": 20,
   "metadata": {},
   "outputs": [],
   "source": [
    "# Checking for highly correlated feature_names\n",
    "# rejected_variables = feature_profile.get_rejected_variables(threshold=0.8)\n",
    "# rejected_variables"
   ]
  },
  {
   "cell_type": "markdown",
   "metadata": {},
   "source": [
    "Our dataset does not contain any correlated features (Threshold=0.8)"
   ]
  },
  {
   "cell_type": "code",
   "execution_count": 21,
   "metadata": {},
   "outputs": [],
   "source": [
    "# # find the quartiles and IQR for each category\n",
    "# groups = df.groupby('group')\n",
    "# q1 = groups.quantile(q=0.25)\n",
    "# q2 = groups.quantile(q=0.5)\n",
    "# q3 = groups.quantile(q=0.75)\n",
    "# iqr = q3 - q1\n",
    "# upper = q3 + 1.5*iqr\n",
    "# lower = q1 - 1.5*iqr\n",
    "\n",
    "# # find the outliers for each category\n",
    "# def outliers(group):\n",
    "#     cat = group.name\n",
    "#     return group[(group.score > upper.loc[cat]['score']) | (group.score < lower.loc[cat]['score'])]['score']\n",
    "# out = groups.apply(outliers).dropna()\n",
    "\n",
    "# # prepare outlier data for plotting, we need coordinates for every outlier.\n",
    "# if not out.empty:\n",
    "#     outx = []\n",
    "#     outy = []\n",
    "#     for keys in out.index:\n",
    "#         outx.append(keys[0])\n",
    "#         outy.append(out.loc[keys[0]].loc[keys[1]])\n",
    "\n",
    "# p = figure(tools=\"\", background_fill_color=\"#efefef\", x_range=cats, toolbar_location=None)\n",
    "\n",
    "# # if no outliers, shrink lengths of stems to be no longer than the minimums or maximums\n",
    "# qmin = groups.quantile(q=0.00)\n",
    "# qmax = groups.quantile(q=1.00)\n",
    "# upper.score = [min([x,y]) for (x,y) in zip(list(qmax.loc[:,'score']),upper.score)]\n",
    "# lower.score = [max([x,y]) for (x,y) in zip(list(qmin.loc[:,'score']),lower.score)]\n",
    "\n",
    "# # stems\n",
    "# p.segment(cats, upper.score, cats, q3.score, line_color=\"black\")\n",
    "# p.segment(cats, lower.score, cats, q1.score, line_color=\"black\")\n",
    "\n",
    "# # boxes\n",
    "# p.vbar(cats, 0.7, q2.score, q3.score, fill_color=\"#E08E79\", line_color=\"black\")\n",
    "# p.vbar(cats, 0.7, q1.score, q2.score, fill_color=\"#3B8686\", line_color=\"black\")\n",
    "\n",
    "# # whiskers (almost-0 height rects simpler than segments)\n",
    "# p.rect(cats, lower.score, 0.2, 0.01, line_color=\"black\")\n",
    "# p.rect(cats, upper.score, 0.2, 0.01, line_color=\"black\")\n",
    "\n",
    "# # outliers\n",
    "# if not out.empty:\n",
    "#     p.circle(outx, outy, size=6, color=\"#F38630\", fill_alpha=0.6)\n",
    "\n",
    "# p.xgrid.grid_line_color = None\n",
    "# p.ygrid.grid_line_color = \"white\"\n",
    "# p.grid.grid_line_width = 2\n",
    "# p.xaxis.major_label_text_font_size=\"12pt\"\n",
    "\n",
    "# output_file(\"boxplot.html\", title=\"boxplot.py example\")\n",
    "\n",
    "# show(p)"
   ]
  },
  {
   "cell_type": "code",
   "execution_count": 24,
   "metadata": {
    "scrolled": false
   },
   "outputs": [
    {
     "data": {
      "image/png": "[encoded data removed]",
      "text/plain": [
       "<Figure size 1440x720 with 1 Axes>"
      ]
     },
     "metadata": {
      "needs_background": "light"
     },
     "output_type": "display_data"
    }
   ],
   "source": [
    "fig, ax = plt.subplots()\n",
    "ax = sns.boxplot(x=\"variable\", y=\"value\", data=pd.melt(X))\n",
    "fig.set_size_inches(20, 10)\n",
    "ax.set_ylabel('Values', fontsize=20)\n",
    "ax.set_xlabel('Feature', fontsize=20)\n",
    "plt.tick_params(labelsize=20)\n",
    "plt.xticks(rotation='vertical')\n",
    "plt.show()"
   ]
  },
  {
   "cell_type": "code",
   "execution_count": 25,
   "metadata": {
    "scrolled": true
   },
   "outputs": [
    {
     "data": {
      "image/png": "[encoded data removed]",
      "text/plain": [
       "<Figure size 1440x720 with 1 Axes>"
      ]
     },
     "metadata": {
      "needs_background": "light"
     },
     "output_type": "display_data"
    }
   ],
   "source": [
    "X_outliers = X.drop(columns=['half_seconds_remaining', 'game_seconds_remaining'])\n",
    "fig, ax = plt.subplots()\n",
    "ax = sns.boxplot(x=\"variable\", y=\"value\", data=pd.melt(X_outliers))\n",
    "fig.set_size_inches(20, 10)\n",
    "ax.set_ylabel('Values', fontsize=20)\n",
    "ax.set_xlabel('Feature', fontsize=20)\n",
    "plt.tick_params(labelsize=20)\n",
    "plt.xticks(rotation='vertical')\n",
    "plt.show()"
   ]
  },
  {
   "cell_type": "code",
   "execution_count": null,
   "metadata": {},
   "outputs": [],
   "source": [
    "\n",
    "\n",
    "plot([go.Scatter(x=[1, 2, 3], y=[3, 1, 6])])"
   ]
  },
  {
   "cell_type": "code",
   "execution_count": 68,
   "metadata": {
    "scrolled": true
   },
   "outputs": [
    {
     "data": {
      "text/html": [
       "<iframe\n",
       "    scrolling=\"no\"\n",
       "    width=\"100%\"\n",
       "    height=\"545px\"\n",
       "    src=\"iframe_figures/figure_68.html\"\n",
       "    frameborder=\"0\"\n",
       "    allowfullscreen\n",
       "></iframe>\n"
      ]
     },
     "metadata": {},
     "output_type": "display_data"
    }
   ],
   "source": [
    "import plotly.graph_objs as go\n",
    "from plotly.offline import download_plotlyjs, init_notebook_mode, plot, iplot\n",
    "\n",
    "box_plot = go.Figure()\n",
    "columns = X.columns\n",
    "for col in columns:\n",
    "\n",
    "    y = X[col]\n",
    "    box_plot.add_trace(go.Box(y=y, name=col))\n",
    "\n",
    "\n",
    "box_plot.show(renderer=\"iframe\", width=800, height=500)\n",
    "# py.plot(box_plot, filename = 'box_plot', auto_open=True)"
   ]
  },
  {
   "cell_type": "code",
   "execution_count": null,
   "metadata": {},
   "outputs": [],
   "source": []
  },
  {
   "cell_type": "markdown",
   "metadata": {},
   "source": [
    "A number of features contain outliers. All features will be transformed to account for outliers using power_transform"
   ]
  },
  {
   "cell_type": "code",
   "execution_count": null,
   "metadata": {},
   "outputs": [],
   "source": [
    "####################################\n",
    "#          Balancing dataset       #\n",
    "####################################"
   ]
  },
  {
   "cell_type": "code",
   "execution_count": null,
   "metadata": {},
   "outputs": [],
   "source": [
    "# applying SMOTE to our data and checking the class counts\n",
    "X_resampled, y_resampled = SMOTE().fit_resample(X, y)\n",
    "print(X_resampled.shape)\n",
    "print(y_resampled.shape)\n",
    "\n",
    "\n",
    "# pt = PowerTransformer()\n",
    "# pt.fit(X_resampled)\n",
    "# X_resampled_transformed = pt.transform(X_resampled)\n",
    "# print(sorted(Counter(y_resampled).items()))\n",
    "\n",
    "# X_resampled_transformed.shape\n",
    "# y_resampled.shape\n",
    "\n"
   ]
  },
  {
   "cell_type": "code",
   "execution_count": null,
   "metadata": {},
   "outputs": [],
   "source": [
    "collections.Counter(y_resampled)"
   ]
  },
  {
   "cell_type": "code",
   "execution_count": null,
   "metadata": {
    "scrolled": false
   },
   "outputs": [],
   "source": [
    "print(X_resampled.shape)\n",
    "print(y_resampled.shape)"
   ]
  },
  {
   "cell_type": "code",
   "execution_count": null,
   "metadata": {},
   "outputs": [],
   "source": [
    "################################\n",
    "# SELECTING IMPORTANT FEATURES #\n",
    "################################"
   ]
  },
  {
   "cell_type": "code",
   "execution_count": null,
   "metadata": {
    "scrolled": true
   },
   "outputs": [],
   "source": [
    "rfc = RandomForestClassifier(random_state=100)\n",
    "rfecv = RFECV(estimator=rfc, step=1, cv=StratifiedKFold(10), scoring='accuracy')\n",
    "rfecv.fit(X_resampled, y_resampled)\n",
    "\n",
    "print('Optimal number of features: {}'.format(rfecv.n_features_))\n",
    "\n",
    "plt.figure(figsize=(16, 9))\n",
    "plt.title('Recursive Feature Elimination with Cross-Validation', fontsize=18, fontweight='bold', pad=20)\n",
    "plt.xlabel('Number of features selected', fontsize=14, labelpad=20)\n",
    "plt.ylabel('% Correct Classification', fontsize=14, labelpad=20)\n",
    "plt.plot(range(1, len(rfecv.grid_scores_) + 1), rfecv.grid_scores_, color='#303F9F', linewidth=3)\n",
    "plt.savefig('plots/RFECV_resampled.png', dpi=600)\n",
    "plt.show()\n"
   ]
  },
  {
   "cell_type": "code",
   "execution_count": null,
   "metadata": {
    "scrolled": true
   },
   "outputs": [],
   "source": [
    "print(np.where(rfecv.support_ == False)[0])"
   ]
  },
  {
   "cell_type": "code",
   "execution_count": null,
   "metadata": {},
   "outputs": [],
   "source": [
    "plt.figure(figsize=(12, 8))\n",
    "plt.title('Recursive Feature Elimination with Cross-Validation', fontsize=20, pad=20)\n",
    "plt.xlabel('Number of features selected', fontsize=16, labelpad=20)\n",
    "plt.ylabel('% Correct Classification', fontsize=16, labelpad=20)\n",
    "plt.xticks(fontsize = 12)\n",
    "plt.yticks(fontsize = 12)\n",
    "plt.plot(range(1, len(rfecv.grid_scores_) + 1), rfecv.grid_scores_, color='#303F9F', linewidth=2)\n",
    "plt.tight_layout()\n",
    "plt.savefig('plots/RFECV.png', dpi=600)\n",
    "plt.show()"
   ]
  },
  {
   "cell_type": "code",
   "execution_count": null,
   "metadata": {},
   "outputs": [],
   "source": [
    "rfecv_plot = go.Figure(go.Scatter(\n",
    "    x=[1,2,3,4,5,6,7,8,9,10,11,12,13,14,15],\n",
    "    y=rfecv.grid_scores_\n",
    "))\n",
    "\n",
    "rfecv_plot.update_layout(\n",
    "    title_text=\"Recursive Feature Elimination with Cross-Validation\",\n",
    "    xaxis_title=\"Number of Features Selected\",\n",
    "    yaxis_title=\"% Correct Classification\",\n",
    ")\n",
    "\n",
    "# rfecv_plot.update_layout(\n",
    "#     legend=go.layout.Legend(\n",
    "#         x=0,\n",
    "#         y=1,\n",
    "#         traceorder=\"normal\",\n",
    "#         font=dict(\n",
    "#             family=\"Avenir\",\n",
    "#             size=18,\n",
    "#             color=\"black\"\n",
    "#         ),\n",
    "#         bgcolor=\"LightSteelBlue\",\n",
    "#         bordercolor=\"Black\",\n",
    "#         borderwidth=2\n",
    "#     )\n",
    "# )\n",
    "# fig.show(renderer=\"iframe\", width=1200, height=800)\n",
    "py.plot(rfecv_plot, filename = 'rfecv_plot', auto_open=False)"
   ]
  },
  {
   "cell_type": "code",
   "execution_count": null,
   "metadata": {},
   "outputs": [],
   "source": [
    "non_impotant_features = np.where(rfecv.support_ == False)[0]\n",
    "print(non_impotant_features)"
   ]
  },
  {
   "cell_type": "code",
   "execution_count": null,
   "metadata": {},
   "outputs": [],
   "source": [
    "X.drop(X.columns[np.where(rfecv.support_ == False)[0]], axis=1, inplace=True)"
   ]
  },
  {
   "cell_type": "code",
   "execution_count": null,
   "metadata": {},
   "outputs": [],
   "source": [
    "dset = pd.DataFrame()\n",
    "dset['attr'] = X.columns\n",
    "dset['importance'] = rfecv.estimator_.feature_importances_\n"
   ]
  },
  {
   "cell_type": "code",
   "execution_count": null,
   "metadata": {},
   "outputs": [],
   "source": [
    "dset = dset.sort_values(by='importance', ascending=False)\n",
    "dset.head(8)"
   ]
  },
  {
   "cell_type": "code",
   "execution_count": null,
   "metadata": {},
   "outputs": [],
   "source": [
    "plt.figure(figsize=(12, 8))\n",
    "plt.barh(y=dset['attr'], width=dset['importance'], color='#1976D2')\n",
    "ax.tick_params(labelsize=14)\n",
    "plt.title('RFECV - Feature Importances', fontsize=20, pad=20)\n",
    "plt.xlabel('Importance', fontsize=16, labelpad=20)\n",
    "plt.xticks(fontsize = 12)\n",
    "plt.yticks(fontsize = 18)\n",
    "plt.tight_layout()\n",
    "plt.savefig('plots/important_features.png', dpi=600)\n",
    "plt.show()"
   ]
  },
  {
   "cell_type": "code",
   "execution_count": null,
   "metadata": {
    "scrolled": false
   },
   "outputs": [],
   "source": [
    "# fig = go.Figure()\n",
    "\n",
    "rfecv_features = go.Figure(data=go.Bar(\n",
    "            x=dset['importance'],\n",
    "            y=dset['attr'],\n",
    "            marker=dict(\n",
    "                color='rgba(8,80,111,100)'),\n",
    "            orientation='h')\n",
    "               )\n",
    "\n",
    "rfecv_features.update_layout(\n",
    "    title_text=\"RFECV - Feature Importances\",\n",
    "    xaxis_title=\"Importance Score\",\n",
    ")\n",
    "\n",
    "rfecv_features.show(renderer=\"iframe\", width=1200, height=800)\n",
    "py.plot(rfecv_features, filename = 'rfecv_features', auto_open=False)"
   ]
  },
  {
   "cell_type": "code",
   "execution_count": null,
   "metadata": {},
   "outputs": [],
   "source": [
    "#################################################################\n",
    "# Saving selected dataset after removing non-important features\n",
    "X_selected = X.copy()\n",
    "X_selected.to_csv('X_selected.csv', index=False)\n",
    "#################################################################\n",
    "# Saving selected targets to match naming structure\n",
    "y_selected = y.copy()\n",
    "y_selected.to_csv('y_selected.csv', header=True, index=False)"
   ]
  },
  {
   "cell_type": "code",
   "execution_count": null,
   "metadata": {},
   "outputs": [],
   "source": [
    "# Visualizing feature importance on final dataset\n",
    "from yellowbrick.features import ParallelCoordinates\n",
    "from yellowbrick.datasets import load_occupancy\n",
    "\n",
    "# Load the classification data set\n",
    "X_resampled, y_resampled = load_occupancy()\n",
    "\n",
    "# Specify the features of interest and the classes of the target\n",
    "features = ['yard_line', 'half_sec', 'game_sec', 'humidity', 'down', 'temp', 'score_diff', 'ydstogo']\n",
    "classes = ['pass', 'run']\n",
    "\n",
    "# Instantiate the visualizer\n",
    "visualizer = ParallelCoordinates(\n",
    "    classes=classes, features=features,\n",
    "    normalize='standard', sample=0.05, shuffle=True,\n",
    ")\n",
    "\n",
    "# Fit the visualizer and display it\n",
    "visualizer.fit_transform(X_selected, y_selected)\n",
    "visualizer.show(outpath='plots/ParallelCoordinates.png', dpi=600)"
   ]
  },
  {
   "cell_type": "markdown",
   "metadata": {},
   "source": [
    "#### SUMMARY"
   ]
  },
  {
   "cell_type": "markdown",
   "metadata": {},
   "source": [
    "1. Target classes were balanced for equal sampling of pass and run\n",
    "2. Feature set was reduced from 15 to 8 using RFECV method on balanced data\n",
    "3. Renamed new feature and target datasets as X_selected and y_selected \n",
    "\n",
    "*Note: X_selected and y_selected are not balanced*"
   ]
  },
  {
   "cell_type": "code",
   "execution_count": null,
   "metadata": {},
   "outputs": [],
   "source": []
  },
  {
   "cell_type": "code",
   "execution_count": null,
   "metadata": {},
   "outputs": [],
   "source": [
    "# X.dtypes"
   ]
  },
  {
   "cell_type": "code",
   "execution_count": null,
   "metadata": {
    "scrolled": true
   },
   "outputs": [],
   "source": [
    "# # Converting some down and qtr features to categorical\n",
    "# X.down = X.down.astype(str)\n",
    "# X.qtr = X.qtr.astype(str)"
   ]
  },
  {
   "cell_type": "code",
   "execution_count": null,
   "metadata": {},
   "outputs": [],
   "source": [
    "# X.dtypes"
   ]
  },
  {
   "cell_type": "code",
   "execution_count": null,
   "metadata": {},
   "outputs": [],
   "source": [
    "# # Encoding categorical features\n",
    "# # Categorical boolean mask\n",
    "# categorical_feature_mask = X.dtypes==object\n",
    "# # filter categorical columns using mask and turn it into a list\n",
    "# categorical_cols = X.columns[categorical_feature_mask].tolist()\n",
    "# categorical_cols"
   ]
  },
  {
   "cell_type": "code",
   "execution_count": null,
   "metadata": {},
   "outputs": [],
   "source": [
    "# # Instantiate labelencoder object\n",
    "# le = LabelEncoder()\n",
    "# # Apply le on categorical feature columns\n",
    "# X[categorical_cols] = X[categorical_cols].apply(lambda col: le.fit_transform(col))\n",
    "# X[categorical_cols].head(10)"
   ]
  },
  {
   "cell_type": "code",
   "execution_count": null,
   "metadata": {},
   "outputs": [],
   "source": [
    "# # Instantiate OneHotEncoder\n",
    "# ohe = OneHotEncoder(categorical_features = categorical_feature_mask, sparse=False ) \n",
    "# # categorical_features = boolean mask for categorical columns\n",
    "# # sparse = False output an array not sparse matrix"
   ]
  },
  {
   "cell_type": "code",
   "execution_count": null,
   "metadata": {},
   "outputs": [],
   "source": [
    "# # apply OneHotEncoder on categorical feature columns\n",
    "# X_ohe = ohe.fit_transform(X) # It returns an numpy array"
   ]
  },
  {
   "cell_type": "code",
   "execution_count": null,
   "metadata": {},
   "outputs": [],
   "source": [
    "# X_ohe"
   ]
  },
  {
   "cell_type": "code",
   "execution_count": null,
   "metadata": {},
   "outputs": [],
   "source": [
    "# rfc = RandomForestClassifier(random_state=100)\n",
    "# rfecv = RFECV(estimator=rfc, step=1, cv=StratifiedKFold(10), scoring='accuracy')\n",
    "# rfecv.fit(X_ohe, y)\n",
    "\n",
    "# print('Optimal number of features: {}'.format(rfecv.n_features_))\n",
    "\n",
    "# plt.figure(figsize=(16, 9))\n",
    "# plt.title('Recursive Feature Elimination with Cross-Validation', fontsize=18, fontweight='bold', pad=20)\n",
    "# plt.xlabel('Number of features selected', fontsize=14, labelpad=20)\n",
    "# plt.ylabel('% Correct Classification', fontsize=14, labelpad=20)\n",
    "# plt.plot(range(1, len(rfecv.grid_scores_) + 1), rfecv.grid_scores_, color='#303F9F', linewidth=3)\n",
    "# plt.savefig('plots/RFECV.png', dpi=600)\n",
    "# plt.show()"
   ]
  },
  {
   "cell_type": "code",
   "execution_count": null,
   "metadata": {},
   "outputs": [],
   "source": [
    "# print(np.where(rfecv.support_ == False)[0])"
   ]
  },
  {
   "cell_type": "code",
   "execution_count": null,
   "metadata": {
    "scrolled": true
   },
   "outputs": [],
   "source": [
    "# rfecv.estimator_.feature_importances_"
   ]
  },
  {
   "cell_type": "code",
   "execution_count": null,
   "metadata": {},
   "outputs": [],
   "source": [
    "# X.columns"
   ]
  },
  {
   "cell_type": "code",
   "execution_count": null,
   "metadata": {},
   "outputs": [],
   "source": [
    "# dset = pd.DataFrame()\n",
    "# dset['attr'] = X_ohe.columns\n",
    "# dset['importance'] = rfecv.estimator_.feature_importances_\n",
    "\n",
    "# # dset = dset.sort_values(by='importance', ascending=False)\n",
    "# # dset.head()"
   ]
  },
  {
   "cell_type": "code",
   "execution_count": null,
   "metadata": {},
   "outputs": [],
   "source": [
    "# plt.figure(figsize=(16, 14))\n",
    "# plt.barh(y=dset['attr'], width=dset['importance'], color='#1976D2')\n",
    "# plt.title('RFECV - Feature Importances', fontsize=20, fontweight='bold', pad=20)\n",
    "# plt.xlabel('Importance', fontsize=14, labelpad=20)\n",
    "# plt.savefig('plots/important_features.png', dpi=600)\n",
    "# plt.show()"
   ]
  },
  {
   "cell_type": "code",
   "execution_count": null,
   "metadata": {},
   "outputs": [],
   "source": [
    "# transformed = np.cbrt(play_by_play.precipitation)"
   ]
  },
  {
   "cell_type": "code",
   "execution_count": null,
   "metadata": {},
   "outputs": [],
   "source": [
    "# transformed"
   ]
  },
  {
   "cell_type": "code",
   "execution_count": null,
   "metadata": {},
   "outputs": [],
   "source": []
  },
  {
   "cell_type": "code",
   "execution_count": null,
   "metadata": {},
   "outputs": [],
   "source": []
  }
 ],
 "metadata": {
  "kernelspec": {
   "display_name": "nflData",
   "language": "python",
   "name": "nfldata"
  },
  "language_info": {
   "codemirror_mode": {
    "name": "ipython",
    "version": 3
   },
   "file_extension": ".py",
   "mimetype": "text/x-python",
   "name": "python",
   "nbconvert_exporter": "python",
   "pygments_lexer": "ipython3",
   "version": "3.7.4"
  }
 },
 "nbformat": 4,
 "nbformat_minor": 2
}
