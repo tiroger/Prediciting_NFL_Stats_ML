{
 "cells": [
  {
   "cell_type": "code",
   "execution_count": 2,
   "metadata": {},
   "outputs": [],
   "source": [
    "import pandas as pd\n",
    "import numpy as np\n",
    "import datetime\n",
    "\n",
    "# Plotting libraries\n",
    "import matplotlib.pyplot as plt\n",
    "import seaborn as sns\n",
    "import plotly.graph_objects as go\n",
    "import chart_studio.tools as tls\n",
    "import chart_studio\n",
    "import chart_studio.plotly as py\n",
    "from plotly.offline import download_plotlyjs, init_notebook_mode, plot, iplot\n",
    "from plotly_api_key import plotly_api_key\n",
    "\n",
    "# Scikit libraries\n",
    "from sklearn.model_selection import train_test_split\n",
    "from sklearn.preprocessing import PowerTransformer\n",
    "from sklearn.ensemble import RandomForestClassifier\n",
    "from sklearn.externals import joblib"
   ]
  },
  {
   "cell_type": "code",
   "execution_count": 3,
   "metadata": {},
   "outputs": [],
   "source": [
    "# Load the model from the file \n",
    "RF_from_joblib = joblib.load('final_RF_model.pkl')"
   ]
  },
  {
   "cell_type": "code",
   "execution_count": 4,
   "metadata": {
    "scrolled": true
   },
   "outputs": [
    {
     "data": {
      "text/plain": [
       "RandomForestClassifier(bootstrap=True, class_weight=None, criterion='gini',\n",
       "                       max_depth=None, max_features='auto', max_leaf_nodes=None,\n",
       "                       min_impurity_decrease=0.0, min_impurity_split=None,\n",
       "                       min_samples_leaf=1, min_samples_split=2,\n",
       "                       min_weight_fraction_leaf=0.0, n_estimators=300,\n",
       "                       n_jobs=None, oob_score=False, random_state=None,\n",
       "                       verbose=0, warm_start=False)"
      ]
     },
     "execution_count": 4,
     "metadata": {},
     "output_type": "execute_result"
    }
   ],
   "source": [
    "RF_from_joblib"
   ]
  },
  {
   "cell_type": "code",
   "execution_count": 5,
   "metadata": {},
   "outputs": [],
   "source": [
    "# Load the scaler\n",
    "pt_scaler = joblib.load('pt_scaler.pkl')"
   ]
  },
  {
   "cell_type": "code",
   "execution_count": 6,
   "metadata": {},
   "outputs": [
    {
     "data": {
      "text/plain": [
       "PowerTransformer(copy=True, method='yeo-johnson', standardize=True)"
      ]
     },
     "execution_count": 6,
     "metadata": {},
     "output_type": "execute_result"
    }
   ],
   "source": [
    "pt_scaler"
   ]
  },
  {
   "cell_type": "code",
   "execution_count": 7,
   "metadata": {},
   "outputs": [],
   "source": [
    "# Getting raw data\n",
    "keep_columns = ['posteam','game_date','play_type', 'yardline_100', 'half_seconds_remaining', 'game_seconds_remaining','ydstogo', 'score_differential', 'down']\n",
    "\n",
    "\n"
   ]
  },
  {
   "cell_type": "code",
   "execution_count": 8,
   "metadata": {},
   "outputs": [
    {
     "data": {
      "text/html": [
       "<div>\n",
       "<style scoped>\n",
       "    .dataframe tbody tr th:only-of-type {\n",
       "        vertical-align: middle;\n",
       "    }\n",
       "\n",
       "    .dataframe tbody tr th {\n",
       "        vertical-align: top;\n",
       "    }\n",
       "\n",
       "    .dataframe thead th {\n",
       "        text-align: right;\n",
       "    }\n",
       "</style>\n",
       "<table border=\"1\" class=\"dataframe\">\n",
       "  <thead>\n",
       "    <tr style=\"text-align: right;\">\n",
       "      <th></th>\n",
       "      <th>play_id</th>\n",
       "      <th>game_id</th>\n",
       "      <th>home_team</th>\n",
       "      <th>away_team</th>\n",
       "      <th>posteam</th>\n",
       "      <th>posteam_type</th>\n",
       "      <th>defteam</th>\n",
       "      <th>side_of_field</th>\n",
       "      <th>yardline_100</th>\n",
       "      <th>game_date</th>\n",
       "      <th>...</th>\n",
       "      <th>penalty_player_id</th>\n",
       "      <th>penalty_player_name</th>\n",
       "      <th>penalty_yards</th>\n",
       "      <th>replay_or_challenge</th>\n",
       "      <th>replay_or_challenge_result</th>\n",
       "      <th>penalty_type</th>\n",
       "      <th>defensive_two_point_attempt</th>\n",
       "      <th>defensive_two_point_conv</th>\n",
       "      <th>defensive_extra_point_attempt</th>\n",
       "      <th>defensive_extra_point_conv</th>\n",
       "    </tr>\n",
       "  </thead>\n",
       "  <tbody>\n",
       "    <tr>\n",
       "      <td>0</td>\n",
       "      <td>46</td>\n",
       "      <td>2009091000</td>\n",
       "      <td>PIT</td>\n",
       "      <td>TEN</td>\n",
       "      <td>PIT</td>\n",
       "      <td>home</td>\n",
       "      <td>TEN</td>\n",
       "      <td>TEN</td>\n",
       "      <td>30.0</td>\n",
       "      <td>2009-09-10</td>\n",
       "      <td>...</td>\n",
       "      <td>NaN</td>\n",
       "      <td>NaN</td>\n",
       "      <td>NaN</td>\n",
       "      <td>0</td>\n",
       "      <td>NaN</td>\n",
       "      <td>NaN</td>\n",
       "      <td>0.0</td>\n",
       "      <td>0.0</td>\n",
       "      <td>0.0</td>\n",
       "      <td>0.0</td>\n",
       "    </tr>\n",
       "    <tr>\n",
       "      <td>1</td>\n",
       "      <td>68</td>\n",
       "      <td>2009091000</td>\n",
       "      <td>PIT</td>\n",
       "      <td>TEN</td>\n",
       "      <td>PIT</td>\n",
       "      <td>home</td>\n",
       "      <td>TEN</td>\n",
       "      <td>PIT</td>\n",
       "      <td>58.0</td>\n",
       "      <td>2009-09-10</td>\n",
       "      <td>...</td>\n",
       "      <td>NaN</td>\n",
       "      <td>NaN</td>\n",
       "      <td>NaN</td>\n",
       "      <td>0</td>\n",
       "      <td>NaN</td>\n",
       "      <td>NaN</td>\n",
       "      <td>0.0</td>\n",
       "      <td>0.0</td>\n",
       "      <td>0.0</td>\n",
       "      <td>0.0</td>\n",
       "    </tr>\n",
       "    <tr>\n",
       "      <td>2</td>\n",
       "      <td>92</td>\n",
       "      <td>2009091000</td>\n",
       "      <td>PIT</td>\n",
       "      <td>TEN</td>\n",
       "      <td>PIT</td>\n",
       "      <td>home</td>\n",
       "      <td>TEN</td>\n",
       "      <td>PIT</td>\n",
       "      <td>53.0</td>\n",
       "      <td>2009-09-10</td>\n",
       "      <td>...</td>\n",
       "      <td>NaN</td>\n",
       "      <td>NaN</td>\n",
       "      <td>NaN</td>\n",
       "      <td>0</td>\n",
       "      <td>NaN</td>\n",
       "      <td>NaN</td>\n",
       "      <td>0.0</td>\n",
       "      <td>0.0</td>\n",
       "      <td>0.0</td>\n",
       "      <td>0.0</td>\n",
       "    </tr>\n",
       "    <tr>\n",
       "      <td>3</td>\n",
       "      <td>113</td>\n",
       "      <td>2009091000</td>\n",
       "      <td>PIT</td>\n",
       "      <td>TEN</td>\n",
       "      <td>PIT</td>\n",
       "      <td>home</td>\n",
       "      <td>TEN</td>\n",
       "      <td>PIT</td>\n",
       "      <td>56.0</td>\n",
       "      <td>2009-09-10</td>\n",
       "      <td>...</td>\n",
       "      <td>NaN</td>\n",
       "      <td>NaN</td>\n",
       "      <td>NaN</td>\n",
       "      <td>0</td>\n",
       "      <td>NaN</td>\n",
       "      <td>NaN</td>\n",
       "      <td>0.0</td>\n",
       "      <td>0.0</td>\n",
       "      <td>0.0</td>\n",
       "      <td>0.0</td>\n",
       "    </tr>\n",
       "    <tr>\n",
       "      <td>4</td>\n",
       "      <td>139</td>\n",
       "      <td>2009091000</td>\n",
       "      <td>PIT</td>\n",
       "      <td>TEN</td>\n",
       "      <td>PIT</td>\n",
       "      <td>home</td>\n",
       "      <td>TEN</td>\n",
       "      <td>PIT</td>\n",
       "      <td>56.0</td>\n",
       "      <td>2009-09-10</td>\n",
       "      <td>...</td>\n",
       "      <td>NaN</td>\n",
       "      <td>NaN</td>\n",
       "      <td>NaN</td>\n",
       "      <td>0</td>\n",
       "      <td>NaN</td>\n",
       "      <td>NaN</td>\n",
       "      <td>0.0</td>\n",
       "      <td>0.0</td>\n",
       "      <td>0.0</td>\n",
       "      <td>0.0</td>\n",
       "    </tr>\n",
       "  </tbody>\n",
       "</table>\n",
       "<p>5 rows × 255 columns</p>\n",
       "</div>"
      ],
      "text/plain": [
       "   play_id     game_id home_team away_team posteam posteam_type defteam  \\\n",
       "0       46  2009091000       PIT       TEN     PIT         home     TEN   \n",
       "1       68  2009091000       PIT       TEN     PIT         home     TEN   \n",
       "2       92  2009091000       PIT       TEN     PIT         home     TEN   \n",
       "3      113  2009091000       PIT       TEN     PIT         home     TEN   \n",
       "4      139  2009091000       PIT       TEN     PIT         home     TEN   \n",
       "\n",
       "  side_of_field  yardline_100   game_date  ...  penalty_player_id  \\\n",
       "0           TEN          30.0  2009-09-10  ...                NaN   \n",
       "1           PIT          58.0  2009-09-10  ...                NaN   \n",
       "2           PIT          53.0  2009-09-10  ...                NaN   \n",
       "3           PIT          56.0  2009-09-10  ...                NaN   \n",
       "4           PIT          56.0  2009-09-10  ...                NaN   \n",
       "\n",
       "   penalty_player_name  penalty_yards replay_or_challenge  \\\n",
       "0                  NaN            NaN                   0   \n",
       "1                  NaN            NaN                   0   \n",
       "2                  NaN            NaN                   0   \n",
       "3                  NaN            NaN                   0   \n",
       "4                  NaN            NaN                   0   \n",
       "\n",
       "   replay_or_challenge_result  penalty_type  defensive_two_point_attempt  \\\n",
       "0                         NaN           NaN                          0.0   \n",
       "1                         NaN           NaN                          0.0   \n",
       "2                         NaN           NaN                          0.0   \n",
       "3                         NaN           NaN                          0.0   \n",
       "4                         NaN           NaN                          0.0   \n",
       "\n",
       "   defensive_two_point_conv  defensive_extra_point_attempt  \\\n",
       "0                       0.0                            0.0   \n",
       "1                       0.0                            0.0   \n",
       "2                       0.0                            0.0   \n",
       "3                       0.0                            0.0   \n",
       "4                       0.0                            0.0   \n",
       "\n",
       "   defensive_extra_point_conv  \n",
       "0                         0.0  \n",
       "1                         0.0  \n",
       "2                         0.0  \n",
       "3                         0.0  \n",
       "4                         0.0  \n",
       "\n",
       "[5 rows x 255 columns]"
      ]
     },
     "execution_count": 8,
     "metadata": {},
     "output_type": "execute_result"
    }
   ],
   "source": [
    "raw_data = pd.read_csv('resources/NFL_Play_by_Play_2009_2018.csv', low_memory=False)\n",
    "raw_data.head()"
   ]
  },
  {
   "cell_type": "code",
   "execution_count": 9,
   "metadata": {},
   "outputs": [
    {
     "data": {
      "text/plain": [
       "Index(['play_id', 'game_id', 'home_team', 'away_team', 'posteam',\n",
       "       'posteam_type', 'defteam', 'side_of_field', 'yardline_100', 'game_date',\n",
       "       ...\n",
       "       'penalty_player_id', 'penalty_player_name', 'penalty_yards',\n",
       "       'replay_or_challenge', 'replay_or_challenge_result', 'penalty_type',\n",
       "       'defensive_two_point_attempt', 'defensive_two_point_conv',\n",
       "       'defensive_extra_point_attempt', 'defensive_extra_point_conv'],\n",
       "      dtype='object', length=255)"
      ]
     },
     "execution_count": 9,
     "metadata": {},
     "output_type": "execute_result"
    }
   ],
   "source": [
    "raw_data.columns"
   ]
  },
  {
   "cell_type": "code",
   "execution_count": 10,
   "metadata": {
    "scrolled": true
   },
   "outputs": [
    {
     "data": {
      "text/plain": [
       "(449371, 255)"
      ]
     },
     "execution_count": 10,
     "metadata": {},
     "output_type": "execute_result"
    }
   ],
   "source": [
    "raw_data.shape"
   ]
  },
  {
   "cell_type": "code",
   "execution_count": 11,
   "metadata": {},
   "outputs": [
    {
     "data": {
      "text/plain": [
       "Index(['play_id', 'game_id', 'home_team', 'away_team', 'posteam',\n",
       "       'posteam_type', 'defteam', 'side_of_field', 'yardline_100', 'game_date',\n",
       "       ...\n",
       "       'penalty_player_id', 'penalty_player_name', 'penalty_yards',\n",
       "       'replay_or_challenge', 'replay_or_challenge_result', 'penalty_type',\n",
       "       'defensive_two_point_attempt', 'defensive_two_point_conv',\n",
       "       'defensive_extra_point_attempt', 'defensive_extra_point_conv'],\n",
       "      dtype='object', length=255)"
      ]
     },
     "execution_count": 11,
     "metadata": {},
     "output_type": "execute_result"
    }
   ],
   "source": [
    "raw_data.columns"
   ]
  },
  {
   "cell_type": "code",
   "execution_count": 12,
   "metadata": {},
   "outputs": [],
   "source": [
    "selected = raw_data[keep_columns].copy()\n",
    "selected['game_date']= pd.to_datetime(selected['game_date'])"
   ]
  },
  {
   "cell_type": "code",
   "execution_count": 13,
   "metadata": {
    "scrolled": true
   },
   "outputs": [
    {
     "data": {
      "text/html": [
       "<div>\n",
       "<style scoped>\n",
       "    .dataframe tbody tr th:only-of-type {\n",
       "        vertical-align: middle;\n",
       "    }\n",
       "\n",
       "    .dataframe tbody tr th {\n",
       "        vertical-align: top;\n",
       "    }\n",
       "\n",
       "    .dataframe thead th {\n",
       "        text-align: right;\n",
       "    }\n",
       "</style>\n",
       "<table border=\"1\" class=\"dataframe\">\n",
       "  <thead>\n",
       "    <tr style=\"text-align: right;\">\n",
       "      <th></th>\n",
       "      <th>posteam</th>\n",
       "      <th>game_date</th>\n",
       "      <th>play_type</th>\n",
       "      <th>yardline_100</th>\n",
       "      <th>half_seconds_remaining</th>\n",
       "      <th>game_seconds_remaining</th>\n",
       "      <th>ydstogo</th>\n",
       "      <th>score_differential</th>\n",
       "      <th>down</th>\n",
       "    </tr>\n",
       "  </thead>\n",
       "  <tbody>\n",
       "    <tr>\n",
       "      <td>0</td>\n",
       "      <td>PIT</td>\n",
       "      <td>2009-09-10</td>\n",
       "      <td>kickoff</td>\n",
       "      <td>30.0</td>\n",
       "      <td>1800.0</td>\n",
       "      <td>3600.0</td>\n",
       "      <td>0</td>\n",
       "      <td>NaN</td>\n",
       "      <td>NaN</td>\n",
       "    </tr>\n",
       "    <tr>\n",
       "      <td>1</td>\n",
       "      <td>PIT</td>\n",
       "      <td>2009-09-10</td>\n",
       "      <td>pass</td>\n",
       "      <td>58.0</td>\n",
       "      <td>1793.0</td>\n",
       "      <td>3593.0</td>\n",
       "      <td>10</td>\n",
       "      <td>0.0</td>\n",
       "      <td>1.0</td>\n",
       "    </tr>\n",
       "    <tr>\n",
       "      <td>2</td>\n",
       "      <td>PIT</td>\n",
       "      <td>2009-09-10</td>\n",
       "      <td>run</td>\n",
       "      <td>53.0</td>\n",
       "      <td>1756.0</td>\n",
       "      <td>3556.0</td>\n",
       "      <td>5</td>\n",
       "      <td>0.0</td>\n",
       "      <td>2.0</td>\n",
       "    </tr>\n",
       "    <tr>\n",
       "      <td>3</td>\n",
       "      <td>PIT</td>\n",
       "      <td>2009-09-10</td>\n",
       "      <td>pass</td>\n",
       "      <td>56.0</td>\n",
       "      <td>1715.0</td>\n",
       "      <td>3515.0</td>\n",
       "      <td>8</td>\n",
       "      <td>0.0</td>\n",
       "      <td>3.0</td>\n",
       "    </tr>\n",
       "    <tr>\n",
       "      <td>4</td>\n",
       "      <td>PIT</td>\n",
       "      <td>2009-09-10</td>\n",
       "      <td>punt</td>\n",
       "      <td>56.0</td>\n",
       "      <td>1707.0</td>\n",
       "      <td>3507.0</td>\n",
       "      <td>8</td>\n",
       "      <td>0.0</td>\n",
       "      <td>4.0</td>\n",
       "    </tr>\n",
       "  </tbody>\n",
       "</table>\n",
       "</div>"
      ],
      "text/plain": [
       "  posteam  game_date play_type  yardline_100  half_seconds_remaining  \\\n",
       "0     PIT 2009-09-10   kickoff          30.0                  1800.0   \n",
       "1     PIT 2009-09-10      pass          58.0                  1793.0   \n",
       "2     PIT 2009-09-10       run          53.0                  1756.0   \n",
       "3     PIT 2009-09-10      pass          56.0                  1715.0   \n",
       "4     PIT 2009-09-10      punt          56.0                  1707.0   \n",
       "\n",
       "   game_seconds_remaining  ydstogo  score_differential  down  \n",
       "0                  3600.0        0                 NaN   NaN  \n",
       "1                  3593.0       10                 0.0   1.0  \n",
       "2                  3556.0        5                 0.0   2.0  \n",
       "3                  3515.0        8                 0.0   3.0  \n",
       "4                  3507.0        8                 0.0   4.0  "
      ]
     },
     "execution_count": 13,
     "metadata": {},
     "output_type": "execute_result"
    }
   ],
   "source": [
    "selected.head()"
   ]
  },
  {
   "cell_type": "code",
   "execution_count": 14,
   "metadata": {},
   "outputs": [],
   "source": [
    "prkp = selected[(selected.play_type == 'pass') | \n",
    "                (selected.play_type == 'run') | \n",
    "                (selected.play_type == 'field_goal') | \n",
    "                (selected.play_type == 'punt')]"
   ]
  },
  {
   "cell_type": "code",
   "execution_count": 15,
   "metadata": {
    "scrolled": true
   },
   "outputs": [
    {
     "data": {
      "text/html": [
       "<div>\n",
       "<style scoped>\n",
       "    .dataframe tbody tr th:only-of-type {\n",
       "        vertical-align: middle;\n",
       "    }\n",
       "\n",
       "    .dataframe tbody tr th {\n",
       "        vertical-align: top;\n",
       "    }\n",
       "\n",
       "    .dataframe thead th {\n",
       "        text-align: right;\n",
       "    }\n",
       "</style>\n",
       "<table border=\"1\" class=\"dataframe\">\n",
       "  <thead>\n",
       "    <tr style=\"text-align: right;\">\n",
       "      <th></th>\n",
       "      <th>posteam</th>\n",
       "      <th>game_date</th>\n",
       "      <th>play_type</th>\n",
       "      <th>yardline_100</th>\n",
       "      <th>half_seconds_remaining</th>\n",
       "      <th>game_seconds_remaining</th>\n",
       "      <th>ydstogo</th>\n",
       "      <th>score_differential</th>\n",
       "      <th>down</th>\n",
       "    </tr>\n",
       "  </thead>\n",
       "  <tbody>\n",
       "    <tr>\n",
       "      <td>1</td>\n",
       "      <td>PIT</td>\n",
       "      <td>2009-09-10</td>\n",
       "      <td>pass</td>\n",
       "      <td>58.0</td>\n",
       "      <td>1793.0</td>\n",
       "      <td>3593.0</td>\n",
       "      <td>10</td>\n",
       "      <td>0.0</td>\n",
       "      <td>1.0</td>\n",
       "    </tr>\n",
       "    <tr>\n",
       "      <td>2</td>\n",
       "      <td>PIT</td>\n",
       "      <td>2009-09-10</td>\n",
       "      <td>run</td>\n",
       "      <td>53.0</td>\n",
       "      <td>1756.0</td>\n",
       "      <td>3556.0</td>\n",
       "      <td>5</td>\n",
       "      <td>0.0</td>\n",
       "      <td>2.0</td>\n",
       "    </tr>\n",
       "    <tr>\n",
       "      <td>3</td>\n",
       "      <td>PIT</td>\n",
       "      <td>2009-09-10</td>\n",
       "      <td>pass</td>\n",
       "      <td>56.0</td>\n",
       "      <td>1715.0</td>\n",
       "      <td>3515.0</td>\n",
       "      <td>8</td>\n",
       "      <td>0.0</td>\n",
       "      <td>3.0</td>\n",
       "    </tr>\n",
       "    <tr>\n",
       "      <td>4</td>\n",
       "      <td>PIT</td>\n",
       "      <td>2009-09-10</td>\n",
       "      <td>punt</td>\n",
       "      <td>56.0</td>\n",
       "      <td>1707.0</td>\n",
       "      <td>3507.0</td>\n",
       "      <td>8</td>\n",
       "      <td>0.0</td>\n",
       "      <td>4.0</td>\n",
       "    </tr>\n",
       "    <tr>\n",
       "      <td>5</td>\n",
       "      <td>TEN</td>\n",
       "      <td>2009-09-10</td>\n",
       "      <td>run</td>\n",
       "      <td>98.0</td>\n",
       "      <td>1696.0</td>\n",
       "      <td>3496.0</td>\n",
       "      <td>10</td>\n",
       "      <td>0.0</td>\n",
       "      <td>1.0</td>\n",
       "    </tr>\n",
       "  </tbody>\n",
       "</table>\n",
       "</div>"
      ],
      "text/plain": [
       "  posteam  game_date play_type  yardline_100  half_seconds_remaining  \\\n",
       "1     PIT 2009-09-10      pass          58.0                  1793.0   \n",
       "2     PIT 2009-09-10       run          53.0                  1756.0   \n",
       "3     PIT 2009-09-10      pass          56.0                  1715.0   \n",
       "4     PIT 2009-09-10      punt          56.0                  1707.0   \n",
       "5     TEN 2009-09-10       run          98.0                  1696.0   \n",
       "\n",
       "   game_seconds_remaining  ydstogo  score_differential  down  \n",
       "1                  3593.0       10                 0.0   1.0  \n",
       "2                  3556.0        5                 0.0   2.0  \n",
       "3                  3515.0        8                 0.0   3.0  \n",
       "4                  3507.0        8                 0.0   4.0  \n",
       "5                  3496.0       10                 0.0   1.0  "
      ]
     },
     "execution_count": 15,
     "metadata": {},
     "output_type": "execute_result"
    }
   ],
   "source": [
    "prkp.head()"
   ]
  },
  {
   "cell_type": "code",
   "execution_count": 16,
   "metadata": {},
   "outputs": [
    {
     "data": {
      "text/plain": [
       "(353060, 9)"
      ]
     },
     "execution_count": 16,
     "metadata": {},
     "output_type": "execute_result"
    }
   ],
   "source": [
    "prkp.shape"
   ]
  },
  {
   "cell_type": "code",
   "execution_count": 17,
   "metadata": {},
   "outputs": [],
   "source": [
    "weather = pd.read_csv('resources/weather_data/weather_final_full.csv')"
   ]
  },
  {
   "cell_type": "code",
   "execution_count": 18,
   "metadata": {
    "scrolled": false
   },
   "outputs": [
    {
     "data": {
      "text/html": [
       "<div>\n",
       "<style scoped>\n",
       "    .dataframe tbody tr th:only-of-type {\n",
       "        vertical-align: middle;\n",
       "    }\n",
       "\n",
       "    .dataframe tbody tr th {\n",
       "        vertical-align: top;\n",
       "    }\n",
       "\n",
       "    .dataframe thead th {\n",
       "        text-align: right;\n",
       "    }\n",
       "</style>\n",
       "<table border=\"1\" class=\"dataframe\">\n",
       "  <thead>\n",
       "    <tr style=\"text-align: right;\">\n",
       "      <th></th>\n",
       "      <th>Unnamed: 0</th>\n",
       "      <th>zip_code</th>\n",
       "      <th>date</th>\n",
       "      <th>desc</th>\n",
       "      <th>temperature</th>\n",
       "      <th>snow</th>\n",
       "      <th>windspeed</th>\n",
       "      <th>visibility</th>\n",
       "      <th>humidity</th>\n",
       "      <th>precipitation</th>\n",
       "    </tr>\n",
       "  </thead>\n",
       "  <tbody>\n",
       "    <tr>\n",
       "      <td>0</td>\n",
       "      <td>0</td>\n",
       "      <td>19148</td>\n",
       "      <td>2009-09-01</td>\n",
       "      <td>Sunny</td>\n",
       "      <td>71</td>\n",
       "      <td>0.0</td>\n",
       "      <td>9</td>\n",
       "      <td>6</td>\n",
       "      <td>58</td>\n",
       "      <td>0.0</td>\n",
       "    </tr>\n",
       "    <tr>\n",
       "      <td>1</td>\n",
       "      <td>1</td>\n",
       "      <td>19148</td>\n",
       "      <td>2009-09-02</td>\n",
       "      <td>Sunny</td>\n",
       "      <td>73</td>\n",
       "      <td>0.0</td>\n",
       "      <td>9</td>\n",
       "      <td>6</td>\n",
       "      <td>63</td>\n",
       "      <td>0.0</td>\n",
       "    </tr>\n",
       "    <tr>\n",
       "      <td>2</td>\n",
       "      <td>2</td>\n",
       "      <td>19148</td>\n",
       "      <td>2009-09-03</td>\n",
       "      <td>Sunny</td>\n",
       "      <td>74</td>\n",
       "      <td>0.0</td>\n",
       "      <td>10</td>\n",
       "      <td>6</td>\n",
       "      <td>64</td>\n",
       "      <td>0.0</td>\n",
       "    </tr>\n",
       "    <tr>\n",
       "      <td>3</td>\n",
       "      <td>3</td>\n",
       "      <td>19148</td>\n",
       "      <td>2009-09-04</td>\n",
       "      <td>Partly cloudy</td>\n",
       "      <td>71</td>\n",
       "      <td>0.0</td>\n",
       "      <td>6</td>\n",
       "      <td>6</td>\n",
       "      <td>69</td>\n",
       "      <td>0.0</td>\n",
       "    </tr>\n",
       "    <tr>\n",
       "      <td>4</td>\n",
       "      <td>4</td>\n",
       "      <td>19148</td>\n",
       "      <td>2009-09-05</td>\n",
       "      <td>Sunny</td>\n",
       "      <td>81</td>\n",
       "      <td>0.0</td>\n",
       "      <td>5</td>\n",
       "      <td>6</td>\n",
       "      <td>52</td>\n",
       "      <td>0.0</td>\n",
       "    </tr>\n",
       "  </tbody>\n",
       "</table>\n",
       "</div>"
      ],
      "text/plain": [
       "   Unnamed: 0  zip_code        date           desc  temperature  snow  \\\n",
       "0           0     19148  2009-09-01          Sunny           71   0.0   \n",
       "1           1     19148  2009-09-02          Sunny           73   0.0   \n",
       "2           2     19148  2009-09-03          Sunny           74   0.0   \n",
       "3           3     19148  2009-09-04  Partly cloudy           71   0.0   \n",
       "4           4     19148  2009-09-05          Sunny           81   0.0   \n",
       "\n",
       "   windspeed  visibility  humidity  precipitation  \n",
       "0          9           6        58            0.0  \n",
       "1          9           6        63            0.0  \n",
       "2         10           6        64            0.0  \n",
       "3          6           6        69            0.0  \n",
       "4          5           6        52            0.0  "
      ]
     },
     "execution_count": 18,
     "metadata": {},
     "output_type": "execute_result"
    }
   ],
   "source": [
    "weather.head()"
   ]
  },
  {
   "cell_type": "code",
   "execution_count": 19,
   "metadata": {
    "scrolled": false
   },
   "outputs": [
    {
     "data": {
      "text/plain": [
       "(41491, 10)"
      ]
     },
     "execution_count": 19,
     "metadata": {},
     "output_type": "execute_result"
    }
   ],
   "source": [
    "weather.shape"
   ]
  },
  {
   "cell_type": "code",
   "execution_count": 20,
   "metadata": {},
   "outputs": [],
   "source": [
    "humidity = weather[['date', 'humidity']].copy()"
   ]
  },
  {
   "cell_type": "code",
   "execution_count": 21,
   "metadata": {},
   "outputs": [
    {
     "data": {
      "text/html": [
       "<div>\n",
       "<style scoped>\n",
       "    .dataframe tbody tr th:only-of-type {\n",
       "        vertical-align: middle;\n",
       "    }\n",
       "\n",
       "    .dataframe tbody tr th {\n",
       "        vertical-align: top;\n",
       "    }\n",
       "\n",
       "    .dataframe thead th {\n",
       "        text-align: right;\n",
       "    }\n",
       "</style>\n",
       "<table border=\"1\" class=\"dataframe\">\n",
       "  <thead>\n",
       "    <tr style=\"text-align: right;\">\n",
       "      <th></th>\n",
       "      <th>date</th>\n",
       "      <th>humidity</th>\n",
       "    </tr>\n",
       "  </thead>\n",
       "  <tbody>\n",
       "    <tr>\n",
       "      <td>0</td>\n",
       "      <td>2009-09-01</td>\n",
       "      <td>58</td>\n",
       "    </tr>\n",
       "    <tr>\n",
       "      <td>1</td>\n",
       "      <td>2009-09-02</td>\n",
       "      <td>63</td>\n",
       "    </tr>\n",
       "    <tr>\n",
       "      <td>2</td>\n",
       "      <td>2009-09-03</td>\n",
       "      <td>64</td>\n",
       "    </tr>\n",
       "    <tr>\n",
       "      <td>3</td>\n",
       "      <td>2009-09-04</td>\n",
       "      <td>69</td>\n",
       "    </tr>\n",
       "    <tr>\n",
       "      <td>4</td>\n",
       "      <td>2009-09-05</td>\n",
       "      <td>52</td>\n",
       "    </tr>\n",
       "  </tbody>\n",
       "</table>\n",
       "</div>"
      ],
      "text/plain": [
       "         date  humidity\n",
       "0  2009-09-01        58\n",
       "1  2009-09-02        63\n",
       "2  2009-09-03        64\n",
       "3  2009-09-04        69\n",
       "4  2009-09-05        52"
      ]
     },
     "execution_count": 21,
     "metadata": {},
     "output_type": "execute_result"
    }
   ],
   "source": [
    "humidity.head()"
   ]
  },
  {
   "cell_type": "code",
   "execution_count": 22,
   "metadata": {
    "scrolled": true
   },
   "outputs": [],
   "source": [
    "humidity.rename(columns={'date': 'game_date'}, inplace=True)"
   ]
  },
  {
   "cell_type": "code",
   "execution_count": 23,
   "metadata": {},
   "outputs": [],
   "source": [
    "humidity['game_date'] = pd.to_datetime(humidity['game_date'])"
   ]
  },
  {
   "cell_type": "code",
   "execution_count": 24,
   "metadata": {
    "scrolled": false
   },
   "outputs": [
    {
     "data": {
      "text/html": [
       "<div>\n",
       "<style scoped>\n",
       "    .dataframe tbody tr th:only-of-type {\n",
       "        vertical-align: middle;\n",
       "    }\n",
       "\n",
       "    .dataframe tbody tr th {\n",
       "        vertical-align: top;\n",
       "    }\n",
       "\n",
       "    .dataframe thead th {\n",
       "        text-align: right;\n",
       "    }\n",
       "</style>\n",
       "<table border=\"1\" class=\"dataframe\">\n",
       "  <thead>\n",
       "    <tr style=\"text-align: right;\">\n",
       "      <th></th>\n",
       "      <th>game_date</th>\n",
       "      <th>humidity</th>\n",
       "    </tr>\n",
       "  </thead>\n",
       "  <tbody>\n",
       "    <tr>\n",
       "      <td>0</td>\n",
       "      <td>2009-09-01</td>\n",
       "      <td>58</td>\n",
       "    </tr>\n",
       "    <tr>\n",
       "      <td>1</td>\n",
       "      <td>2009-09-02</td>\n",
       "      <td>63</td>\n",
       "    </tr>\n",
       "    <tr>\n",
       "      <td>2</td>\n",
       "      <td>2009-09-03</td>\n",
       "      <td>64</td>\n",
       "    </tr>\n",
       "    <tr>\n",
       "      <td>3</td>\n",
       "      <td>2009-09-04</td>\n",
       "      <td>69</td>\n",
       "    </tr>\n",
       "    <tr>\n",
       "      <td>4</td>\n",
       "      <td>2009-09-05</td>\n",
       "      <td>52</td>\n",
       "    </tr>\n",
       "  </tbody>\n",
       "</table>\n",
       "</div>"
      ],
      "text/plain": [
       "   game_date  humidity\n",
       "0 2009-09-01        58\n",
       "1 2009-09-02        63\n",
       "2 2009-09-03        64\n",
       "3 2009-09-04        69\n",
       "4 2009-09-05        52"
      ]
     },
     "execution_count": 24,
     "metadata": {},
     "output_type": "execute_result"
    }
   ],
   "source": [
    "humidity.head()"
   ]
  },
  {
   "cell_type": "code",
   "execution_count": 25,
   "metadata": {},
   "outputs": [
    {
     "name": "stderr",
     "output_type": "stream",
     "text": [
      "/Users/rogerlefort/.local/lib/python3.7/site-packages/ipykernel_launcher.py:1: SettingWithCopyWarning:\n",
      "\n",
      "\n",
      "A value is trying to be set on a copy of a slice from a DataFrame.\n",
      "Try using .loc[row_indexer,col_indexer] = value instead\n",
      "\n",
      "See the caveats in the documentation: http://pandas.pydata.org/pandas-docs/stable/user_guide/indexing.html#returning-a-view-versus-a-copy\n",
      "\n"
     ]
    }
   ],
   "source": [
    "prkp['humidity'] = humidity.loc[humidity.game_date.isin(prkp.game_date)]['humidity']"
   ]
  },
  {
   "cell_type": "code",
   "execution_count": 26,
   "metadata": {
    "scrolled": true
   },
   "outputs": [
    {
     "data": {
      "text/plain": [
       "1        NaN\n",
       "2        NaN\n",
       "3        NaN\n",
       "4        NaN\n",
       "5        NaN\n",
       "          ..\n",
       "449363   NaN\n",
       "449364   NaN\n",
       "449366   NaN\n",
       "449367   NaN\n",
       "449368   NaN\n",
       "Name: humidity, Length: 353060, dtype: float64"
      ]
     },
     "execution_count": 26,
     "metadata": {},
     "output_type": "execute_result"
    }
   ],
   "source": [
    "prkp['humidity']"
   ]
  },
  {
   "cell_type": "code",
   "execution_count": 35,
   "metadata": {},
   "outputs": [],
   "source": [
    "prkp_w_weather = prkp.groupby('game_date').bfill()"
   ]
  },
  {
   "cell_type": "code",
   "execution_count": 37,
   "metadata": {},
   "outputs": [
    {
     "data": {
      "text/html": [
       "<div>\n",
       "<style scoped>\n",
       "    .dataframe tbody tr th:only-of-type {\n",
       "        vertical-align: middle;\n",
       "    }\n",
       "\n",
       "    .dataframe tbody tr th {\n",
       "        vertical-align: top;\n",
       "    }\n",
       "\n",
       "    .dataframe thead th {\n",
       "        text-align: right;\n",
       "    }\n",
       "</style>\n",
       "<table border=\"1\" class=\"dataframe\">\n",
       "  <thead>\n",
       "    <tr style=\"text-align: right;\">\n",
       "      <th></th>\n",
       "      <th>posteam</th>\n",
       "      <th>play_type</th>\n",
       "      <th>yardline_100</th>\n",
       "      <th>half_seconds_remaining</th>\n",
       "      <th>game_seconds_remaining</th>\n",
       "      <th>ydstogo</th>\n",
       "      <th>score_differential</th>\n",
       "      <th>down</th>\n",
       "      <th>humidity</th>\n",
       "    </tr>\n",
       "  </thead>\n",
       "  <tbody>\n",
       "    <tr>\n",
       "      <td>1</td>\n",
       "      <td>PIT</td>\n",
       "      <td>pass</td>\n",
       "      <td>58.0</td>\n",
       "      <td>1793.0</td>\n",
       "      <td>3593.0</td>\n",
       "      <td>10</td>\n",
       "      <td>0.0</td>\n",
       "      <td>1.0</td>\n",
       "      <td>93.0</td>\n",
       "    </tr>\n",
       "    <tr>\n",
       "      <td>2</td>\n",
       "      <td>PIT</td>\n",
       "      <td>run</td>\n",
       "      <td>53.0</td>\n",
       "      <td>1756.0</td>\n",
       "      <td>3556.0</td>\n",
       "      <td>5</td>\n",
       "      <td>0.0</td>\n",
       "      <td>2.0</td>\n",
       "      <td>93.0</td>\n",
       "    </tr>\n",
       "    <tr>\n",
       "      <td>3</td>\n",
       "      <td>PIT</td>\n",
       "      <td>pass</td>\n",
       "      <td>56.0</td>\n",
       "      <td>1715.0</td>\n",
       "      <td>3515.0</td>\n",
       "      <td>8</td>\n",
       "      <td>0.0</td>\n",
       "      <td>3.0</td>\n",
       "      <td>93.0</td>\n",
       "    </tr>\n",
       "    <tr>\n",
       "      <td>4</td>\n",
       "      <td>PIT</td>\n",
       "      <td>punt</td>\n",
       "      <td>56.0</td>\n",
       "      <td>1707.0</td>\n",
       "      <td>3507.0</td>\n",
       "      <td>8</td>\n",
       "      <td>0.0</td>\n",
       "      <td>4.0</td>\n",
       "      <td>93.0</td>\n",
       "    </tr>\n",
       "    <tr>\n",
       "      <td>5</td>\n",
       "      <td>TEN</td>\n",
       "      <td>run</td>\n",
       "      <td>98.0</td>\n",
       "      <td>1696.0</td>\n",
       "      <td>3496.0</td>\n",
       "      <td>10</td>\n",
       "      <td>0.0</td>\n",
       "      <td>1.0</td>\n",
       "      <td>93.0</td>\n",
       "    </tr>\n",
       "    <tr>\n",
       "      <td>6</td>\n",
       "      <td>TEN</td>\n",
       "      <td>pass</td>\n",
       "      <td>98.0</td>\n",
       "      <td>1660.0</td>\n",
       "      <td>3460.0</td>\n",
       "      <td>10</td>\n",
       "      <td>0.0</td>\n",
       "      <td>2.0</td>\n",
       "      <td>93.0</td>\n",
       "    </tr>\n",
       "    <tr>\n",
       "      <td>7</td>\n",
       "      <td>TEN</td>\n",
       "      <td>run</td>\n",
       "      <td>94.0</td>\n",
       "      <td>1631.0</td>\n",
       "      <td>3431.0</td>\n",
       "      <td>6</td>\n",
       "      <td>0.0</td>\n",
       "      <td>3.0</td>\n",
       "      <td>93.0</td>\n",
       "    </tr>\n",
       "    <tr>\n",
       "      <td>8</td>\n",
       "      <td>TEN</td>\n",
       "      <td>punt</td>\n",
       "      <td>96.0</td>\n",
       "      <td>1594.0</td>\n",
       "      <td>3394.0</td>\n",
       "      <td>8</td>\n",
       "      <td>0.0</td>\n",
       "      <td>4.0</td>\n",
       "      <td>93.0</td>\n",
       "    </tr>\n",
       "    <tr>\n",
       "      <td>9</td>\n",
       "      <td>PIT</td>\n",
       "      <td>pass</td>\n",
       "      <td>43.0</td>\n",
       "      <td>1584.0</td>\n",
       "      <td>3384.0</td>\n",
       "      <td>10</td>\n",
       "      <td>0.0</td>\n",
       "      <td>1.0</td>\n",
       "      <td>93.0</td>\n",
       "    </tr>\n",
       "    <tr>\n",
       "      <td>10</td>\n",
       "      <td>PIT</td>\n",
       "      <td>pass</td>\n",
       "      <td>40.0</td>\n",
       "      <td>1548.0</td>\n",
       "      <td>3348.0</td>\n",
       "      <td>7</td>\n",
       "      <td>0.0</td>\n",
       "      <td>2.0</td>\n",
       "      <td>64.0</td>\n",
       "    </tr>\n",
       "    <tr>\n",
       "      <td>11</td>\n",
       "      <td>PIT</td>\n",
       "      <td>run</td>\n",
       "      <td>30.0</td>\n",
       "      <td>1521.0</td>\n",
       "      <td>3321.0</td>\n",
       "      <td>10</td>\n",
       "      <td>0.0</td>\n",
       "      <td>1.0</td>\n",
       "      <td>64.0</td>\n",
       "    </tr>\n",
       "    <tr>\n",
       "      <td>12</td>\n",
       "      <td>PIT</td>\n",
       "      <td>pass</td>\n",
       "      <td>31.0</td>\n",
       "      <td>1483.0</td>\n",
       "      <td>3283.0</td>\n",
       "      <td>11</td>\n",
       "      <td>0.0</td>\n",
       "      <td>2.0</td>\n",
       "      <td>64.0</td>\n",
       "    </tr>\n",
       "    <tr>\n",
       "      <td>13</td>\n",
       "      <td>PIT</td>\n",
       "      <td>pass</td>\n",
       "      <td>22.0</td>\n",
       "      <td>1441.0</td>\n",
       "      <td>3241.0</td>\n",
       "      <td>2</td>\n",
       "      <td>0.0</td>\n",
       "      <td>3.0</td>\n",
       "      <td>67.0</td>\n",
       "    </tr>\n",
       "    <tr>\n",
       "      <td>14</td>\n",
       "      <td>PIT</td>\n",
       "      <td>punt</td>\n",
       "      <td>41.0</td>\n",
       "      <td>1405.0</td>\n",
       "      <td>3205.0</td>\n",
       "      <td>21</td>\n",
       "      <td>0.0</td>\n",
       "      <td>4.0</td>\n",
       "      <td>61.0</td>\n",
       "    </tr>\n",
       "    <tr>\n",
       "      <td>15</td>\n",
       "      <td>TEN</td>\n",
       "      <td>run</td>\n",
       "      <td>89.0</td>\n",
       "      <td>1400.0</td>\n",
       "      <td>3200.0</td>\n",
       "      <td>10</td>\n",
       "      <td>0.0</td>\n",
       "      <td>1.0</td>\n",
       "      <td>61.0</td>\n",
       "    </tr>\n",
       "    <tr>\n",
       "      <td>16</td>\n",
       "      <td>TEN</td>\n",
       "      <td>pass</td>\n",
       "      <td>42.0</td>\n",
       "      <td>1377.0</td>\n",
       "      <td>3177.0</td>\n",
       "      <td>10</td>\n",
       "      <td>0.0</td>\n",
       "      <td>1.0</td>\n",
       "      <td>61.0</td>\n",
       "    </tr>\n",
       "    <tr>\n",
       "      <td>17</td>\n",
       "      <td>TEN</td>\n",
       "      <td>run</td>\n",
       "      <td>22.0</td>\n",
       "      <td>1344.0</td>\n",
       "      <td>3144.0</td>\n",
       "      <td>10</td>\n",
       "      <td>0.0</td>\n",
       "      <td>1.0</td>\n",
       "      <td>61.0</td>\n",
       "    </tr>\n",
       "    <tr>\n",
       "      <td>18</td>\n",
       "      <td>TEN</td>\n",
       "      <td>pass</td>\n",
       "      <td>19.0</td>\n",
       "      <td>1317.0</td>\n",
       "      <td>3117.0</td>\n",
       "      <td>7</td>\n",
       "      <td>0.0</td>\n",
       "      <td>2.0</td>\n",
       "      <td>61.0</td>\n",
       "    </tr>\n",
       "    <tr>\n",
       "      <td>19</td>\n",
       "      <td>TEN</td>\n",
       "      <td>pass</td>\n",
       "      <td>19.0</td>\n",
       "      <td>1312.0</td>\n",
       "      <td>3112.0</td>\n",
       "      <td>7</td>\n",
       "      <td>0.0</td>\n",
       "      <td>3.0</td>\n",
       "      <td>61.0</td>\n",
       "    </tr>\n",
       "    <tr>\n",
       "      <td>20</td>\n",
       "      <td>TEN</td>\n",
       "      <td>field_goal</td>\n",
       "      <td>19.0</td>\n",
       "      <td>1308.0</td>\n",
       "      <td>3108.0</td>\n",
       "      <td>7</td>\n",
       "      <td>0.0</td>\n",
       "      <td>4.0</td>\n",
       "      <td>75.0</td>\n",
       "    </tr>\n",
       "  </tbody>\n",
       "</table>\n",
       "</div>"
      ],
      "text/plain": [
       "   posteam   play_type  yardline_100  half_seconds_remaining  \\\n",
       "1      PIT        pass          58.0                  1793.0   \n",
       "2      PIT         run          53.0                  1756.0   \n",
       "3      PIT        pass          56.0                  1715.0   \n",
       "4      PIT        punt          56.0                  1707.0   \n",
       "5      TEN         run          98.0                  1696.0   \n",
       "6      TEN        pass          98.0                  1660.0   \n",
       "7      TEN         run          94.0                  1631.0   \n",
       "8      TEN        punt          96.0                  1594.0   \n",
       "9      PIT        pass          43.0                  1584.0   \n",
       "10     PIT        pass          40.0                  1548.0   \n",
       "11     PIT         run          30.0                  1521.0   \n",
       "12     PIT        pass          31.0                  1483.0   \n",
       "13     PIT        pass          22.0                  1441.0   \n",
       "14     PIT        punt          41.0                  1405.0   \n",
       "15     TEN         run          89.0                  1400.0   \n",
       "16     TEN        pass          42.0                  1377.0   \n",
       "17     TEN         run          22.0                  1344.0   \n",
       "18     TEN        pass          19.0                  1317.0   \n",
       "19     TEN        pass          19.0                  1312.0   \n",
       "20     TEN  field_goal          19.0                  1308.0   \n",
       "\n",
       "    game_seconds_remaining  ydstogo  score_differential  down  humidity  \n",
       "1                   3593.0       10                 0.0   1.0      93.0  \n",
       "2                   3556.0        5                 0.0   2.0      93.0  \n",
       "3                   3515.0        8                 0.0   3.0      93.0  \n",
       "4                   3507.0        8                 0.0   4.0      93.0  \n",
       "5                   3496.0       10                 0.0   1.0      93.0  \n",
       "6                   3460.0       10                 0.0   2.0      93.0  \n",
       "7                   3431.0        6                 0.0   3.0      93.0  \n",
       "8                   3394.0        8                 0.0   4.0      93.0  \n",
       "9                   3384.0       10                 0.0   1.0      93.0  \n",
       "10                  3348.0        7                 0.0   2.0      64.0  \n",
       "11                  3321.0       10                 0.0   1.0      64.0  \n",
       "12                  3283.0       11                 0.0   2.0      64.0  \n",
       "13                  3241.0        2                 0.0   3.0      67.0  \n",
       "14                  3205.0       21                 0.0   4.0      61.0  \n",
       "15                  3200.0       10                 0.0   1.0      61.0  \n",
       "16                  3177.0       10                 0.0   1.0      61.0  \n",
       "17                  3144.0       10                 0.0   1.0      61.0  \n",
       "18                  3117.0        7                 0.0   2.0      61.0  \n",
       "19                  3112.0        7                 0.0   3.0      61.0  \n",
       "20                  3108.0        7                 0.0   4.0      75.0  "
      ]
     },
     "execution_count": 37,
     "metadata": {},
     "output_type": "execute_result"
    }
   ],
   "source": [
    "prkp_w_weather.head(20)"
   ]
  },
  {
   "cell_type": "code",
   "execution_count": null,
   "metadata": {},
   "outputs": [],
   "source": [
    "humidity.loc[humidity.game_date.isin(prkp.game_date)]"
   ]
  },
  {
   "cell_type": "code",
   "execution_count": null,
   "metadata": {},
   "outputs": [],
   "source": []
  },
  {
   "cell_type": "code",
   "execution_count": null,
   "metadata": {},
   "outputs": [],
   "source": []
  },
  {
   "cell_type": "code",
   "execution_count": null,
   "metadata": {},
   "outputs": [],
   "source": []
  },
  {
   "cell_type": "code",
   "execution_count": null,
   "metadata": {},
   "outputs": [],
   "source": []
  },
  {
   "cell_type": "code",
   "execution_count": null,
   "metadata": {},
   "outputs": [],
   "source": []
  },
  {
   "cell_type": "code",
   "execution_count": null,
   "metadata": {},
   "outputs": [],
   "source": []
  },
  {
   "cell_type": "code",
   "execution_count": null,
   "metadata": {},
   "outputs": [],
   "source": [
    "merged_data = pd.merge(prkp, humidity, on='game_date', how='right')"
   ]
  },
  {
   "cell_type": "code",
   "execution_count": null,
   "metadata": {},
   "outputs": [],
   "source": [
    "merged_data"
   ]
  },
  {
   "cell_type": "code",
   "execution_count": null,
   "metadata": {},
   "outputs": [],
   "source": [
    "merged_data.isna().sum()"
   ]
  },
  {
   "cell_type": "code",
   "execution_count": null,
   "metadata": {},
   "outputs": [],
   "source": [
    "merged_no_na = merged_data.dropna()"
   ]
  },
  {
   "cell_type": "code",
   "execution_count": null,
   "metadata": {
    "scrolled": true
   },
   "outputs": [],
   "source": [
    "merged_no_na.head()"
   ]
  },
  {
   "cell_type": "code",
   "execution_count": null,
   "metadata": {
    "scrolled": false
   },
   "outputs": [],
   "source": [
    "all_teams = list(merged_no_na.posteam.unique())\n",
    "all_teams"
   ]
  },
  {
   "cell_type": "code",
   "execution_count": null,
   "metadata": {},
   "outputs": [],
   "source": [
    "DET = merged_no_na[merged_no_na.posteam == 'DET'][['play_type', 'yardline_100', \n",
    "                                                  'half_seconds_remaining', \n",
    "                                                  'game_seconds_remaining', \n",
    "                                                  'down', 'ydstogo', \n",
    "                                                  'score_differential', \n",
    "                                                  'humidity']]"
   ]
  },
  {
   "cell_type": "code",
   "execution_count": null,
   "metadata": {},
   "outputs": [],
   "source": [
    "DET.shape"
   ]
  },
  {
   "cell_type": "code",
   "execution_count": null,
   "metadata": {},
   "outputs": [],
   "source": [
    "X = DET.drop(columns=['play_type'])\n",
    "y = DET.play_type\n",
    "X_transformed = pt_scaler.transform(X)\n",
    "DET_pred = RF_from_joblib.score(X_transformed, y)"
   ]
  },
  {
   "cell_type": "code",
   "execution_count": null,
   "metadata": {},
   "outputs": [],
   "source": [
    "team_accuracies = pd.DataFrame()\n",
    "team_accuracies['team'] = ['PIT', 'TEN', 'CLE', 'MIN', 'NO', 'DET']\n",
    "team_accuracies['score'] = [pit_pred, ten_pred, CLE_pred, MIN_pred, NO_pred, DET_pred]"
   ]
  },
  {
   "cell_type": "code",
   "execution_count": null,
   "metadata": {
    "scrolled": true
   },
   "outputs": [],
   "source": [
    "team_accuracies"
   ]
  },
  {
   "cell_type": "code",
   "execution_count": null,
   "metadata": {},
   "outputs": [],
   "source": [
    "merged1['humidity'] = "
   ]
  },
  {
   "cell_type": "code",
   "execution_count": null,
   "metadata": {},
   "outputs": [],
   "source": [
    "prkp['humidity'] = humidity.loc[humidity.game_date.isin(prkp.game_date)]['humidity']"
   ]
  },
  {
   "cell_type": "code",
   "execution_count": null,
   "metadata": {
    "scrolled": true
   },
   "outputs": [],
   "source": [
    "prkp.humidity.isna().sum()"
   ]
  },
  {
   "cell_type": "code",
   "execution_count": null,
   "metadata": {},
   "outputs": [],
   "source": [
    "prkp.shape"
   ]
  },
  {
   "cell_type": "code",
   "execution_count": null,
   "metadata": {},
   "outputs": [],
   "source": [
    "prkp.loc[prkp.game_date.isin(humidity.game_date), 'humidity'] = humidity.humidity"
   ]
  },
  {
   "cell_type": "code",
   "execution_count": null,
   "metadata": {},
   "outputs": [],
   "source": [
    "prkp.humidity"
   ]
  },
  {
   "cell_type": "code",
   "execution_count": null,
   "metadata": {},
   "outputs": [],
   "source": [
    " humidity.loc[humidity.game_date.isin(prkp.game_date)]['humidity']"
   ]
  },
  {
   "cell_type": "code",
   "execution_count": null,
   "metadata": {},
   "outputs": [],
   "source": [
    "humidity.game_date"
   ]
  },
  {
   "cell_type": "code",
   "execution_count": null,
   "metadata": {},
   "outputs": [],
   "source": [
    "prkp.dtypes"
   ]
  },
  {
   "cell_type": "code",
   "execution_count": null,
   "metadata": {},
   "outputs": [],
   "source": [
    "merged_no_na.shape"
   ]
  },
  {
   "cell_type": "code",
   "execution_count": null,
   "metadata": {},
   "outputs": [],
   "source": [
    "merged_no_na.drop_duplicates()"
   ]
  },
  {
   "cell_type": "code",
   "execution_count": null,
   "metadata": {},
   "outputs": [],
   "source": []
  }
 ],
 "metadata": {
  "kernelspec": {
   "display_name": "nflData",
   "language": "python",
   "name": "nfldata"
  },
  "language_info": {
   "codemirror_mode": {
    "name": "ipython",
    "version": 3
   },
   "file_extension": ".py",
   "mimetype": "text/x-python",
   "name": "python",
   "nbconvert_exporter": "python",
   "pygments_lexer": "ipython3",
   "version": "3.7.4"
  }
 },
 "nbformat": 4,
 "nbformat_minor": 2
}
